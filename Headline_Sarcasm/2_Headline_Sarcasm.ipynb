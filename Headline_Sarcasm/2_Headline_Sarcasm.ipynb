{
 "cells": [
  {
   "cell_type": "code",
   "execution_count": 1,
   "metadata": {},
   "outputs": [],
   "source": [
    "import numpy as np\n",
    "import pandas as pd\n",
    "import re\n",
    "import nltk\n",
    "from nltk.stem import WordNetLemmatizer\n",
    "from nltk.corpus import stopwords"
   ]
  },
  {
   "cell_type": "code",
   "execution_count": 2,
   "metadata": {},
   "outputs": [],
   "source": [
    "from sklearn.linear_model import LogisticRegression\n",
    "from sklearn.svm import SVC\n",
    "from sklearn.naive_bayes import GaussianNB,MultinomialNB\n",
    "from sklearn.metrics import accuracy_score, confusion_matrix\n",
    "import seaborn as sns\n",
    "import matplotlib.pyplot as plt"
   ]
  },
  {
   "cell_type": "code",
   "execution_count": 3,
   "metadata": {},
   "outputs": [],
   "source": [
    "data=pd.read_excel('NLP.xlsx')"
   ]
  },
  {
   "cell_type": "code",
   "execution_count": 4,
   "metadata": {},
   "outputs": [
    {
     "data": {
      "text/html": [
       "<div>\n",
       "<style scoped>\n",
       "    .dataframe tbody tr th:only-of-type {\n",
       "        vertical-align: middle;\n",
       "    }\n",
       "\n",
       "    .dataframe tbody tr th {\n",
       "        vertical-align: top;\n",
       "    }\n",
       "\n",
       "    .dataframe thead th {\n",
       "        text-align: right;\n",
       "    }\n",
       "</style>\n",
       "<table border=\"1\" class=\"dataframe\">\n",
       "  <thead>\n",
       "    <tr style=\"text-align: right;\">\n",
       "      <th></th>\n",
       "      <th>article_link</th>\n",
       "      <th>headline</th>\n",
       "      <th>is_sarcastic</th>\n",
       "    </tr>\n",
       "  </thead>\n",
       "  <tbody>\n",
       "    <tr>\n",
       "      <th>0</th>\n",
       "      <td>https://www.huffingtonpost.com/entry/versace-b...</td>\n",
       "      <td>former versace store clerk sues over secret 'b...</td>\n",
       "      <td>0</td>\n",
       "    </tr>\n",
       "    <tr>\n",
       "      <th>1</th>\n",
       "      <td>https://www.huffingtonpost.com/entry/roseanne-...</td>\n",
       "      <td>the 'roseanne' revival catches up to our thorn...</td>\n",
       "      <td>0</td>\n",
       "    </tr>\n",
       "    <tr>\n",
       "      <th>2</th>\n",
       "      <td>https://local.theonion.com/mom-starting-to-fea...</td>\n",
       "      <td>mom starting to fear son's web series closest ...</td>\n",
       "      <td>1</td>\n",
       "    </tr>\n",
       "    <tr>\n",
       "      <th>3</th>\n",
       "      <td>https://politics.theonion.com/boehner-just-wan...</td>\n",
       "      <td>boehner just wants wife to listen, not come up...</td>\n",
       "      <td>1</td>\n",
       "    </tr>\n",
       "    <tr>\n",
       "      <th>4</th>\n",
       "      <td>https://www.huffingtonpost.com/entry/jk-rowlin...</td>\n",
       "      <td>j.k. rowling wishes snape happy birthday in th...</td>\n",
       "      <td>0</td>\n",
       "    </tr>\n",
       "  </tbody>\n",
       "</table>\n",
       "</div>"
      ],
      "text/plain": [
       "                                        article_link  \\\n",
       "0  https://www.huffingtonpost.com/entry/versace-b...   \n",
       "1  https://www.huffingtonpost.com/entry/roseanne-...   \n",
       "2  https://local.theonion.com/mom-starting-to-fea...   \n",
       "3  https://politics.theonion.com/boehner-just-wan...   \n",
       "4  https://www.huffingtonpost.com/entry/jk-rowlin...   \n",
       "\n",
       "                                            headline  is_sarcastic  \n",
       "0  former versace store clerk sues over secret 'b...             0  \n",
       "1  the 'roseanne' revival catches up to our thorn...             0  \n",
       "2  mom starting to fear son's web series closest ...             1  \n",
       "3  boehner just wants wife to listen, not come up...             1  \n",
       "4  j.k. rowling wishes snape happy birthday in th...             0  "
      ]
     },
     "execution_count": 4,
     "metadata": {},
     "output_type": "execute_result"
    }
   ],
   "source": [
    "data.head()"
   ]
  },
  {
   "cell_type": "code",
   "execution_count": 5,
   "metadata": {},
   "outputs": [],
   "source": [
    "data_new=data.drop(['article_link'],axis=1)"
   ]
  },
  {
   "cell_type": "code",
   "execution_count": 6,
   "metadata": {},
   "outputs": [
    {
     "data": {
      "text/html": [
       "<div>\n",
       "<style scoped>\n",
       "    .dataframe tbody tr th:only-of-type {\n",
       "        vertical-align: middle;\n",
       "    }\n",
       "\n",
       "    .dataframe tbody tr th {\n",
       "        vertical-align: top;\n",
       "    }\n",
       "\n",
       "    .dataframe thead th {\n",
       "        text-align: right;\n",
       "    }\n",
       "</style>\n",
       "<table border=\"1\" class=\"dataframe\">\n",
       "  <thead>\n",
       "    <tr style=\"text-align: right;\">\n",
       "      <th></th>\n",
       "      <th>headline</th>\n",
       "      <th>is_sarcastic</th>\n",
       "    </tr>\n",
       "  </thead>\n",
       "  <tbody>\n",
       "    <tr>\n",
       "      <th>182</th>\n",
       "      <td>magic-markered initials fail to deter breakroo...</td>\n",
       "      <td>1</td>\n",
       "    </tr>\n",
       "    <tr>\n",
       "      <th>207</th>\n",
       "      <td>7 ways to breakup like a boss</td>\n",
       "      <td>0</td>\n",
       "    </tr>\n",
       "    <tr>\n",
       "      <th>952</th>\n",
       "      <td>george will trashes bill o'reilly: 'wise, he i...</td>\n",
       "      <td>0</td>\n",
       "    </tr>\n",
       "    <tr>\n",
       "      <th>909</th>\n",
       "      <td>terrified jeb bush beginning to fade from visi...</td>\n",
       "      <td>1</td>\n",
       "    </tr>\n",
       "    <tr>\n",
       "      <th>414</th>\n",
       "      <td>russia denies it has compromising information ...</td>\n",
       "      <td>0</td>\n",
       "    </tr>\n",
       "    <tr>\n",
       "      <th>1030</th>\n",
       "      <td>4 hours scrolling through facebook before bed ...</td>\n",
       "      <td>1</td>\n",
       "    </tr>\n",
       "    <tr>\n",
       "      <th>513</th>\n",
       "      <td>3m introduces new line of protective foam eye ...</td>\n",
       "      <td>1</td>\n",
       "    </tr>\n",
       "    <tr>\n",
       "      <th>273</th>\n",
       "      <td>hooded members of congress drown another love ...</td>\n",
       "      <td>1</td>\n",
       "    </tr>\n",
       "    <tr>\n",
       "      <th>895</th>\n",
       "      <td>trump hints at obamacare replacement that woul...</td>\n",
       "      <td>0</td>\n",
       "    </tr>\n",
       "    <tr>\n",
       "      <th>904</th>\n",
       "      <td>a big myth about how to spot a narcissist</td>\n",
       "      <td>0</td>\n",
       "    </tr>\n",
       "  </tbody>\n",
       "</table>\n",
       "</div>"
      ],
      "text/plain": [
       "                                               headline  is_sarcastic\n",
       "182   magic-markered initials fail to deter breakroo...             1\n",
       "207                       7 ways to breakup like a boss             0\n",
       "952   george will trashes bill o'reilly: 'wise, he i...             0\n",
       "909   terrified jeb bush beginning to fade from visi...             1\n",
       "414   russia denies it has compromising information ...             0\n",
       "1030  4 hours scrolling through facebook before bed ...             1\n",
       "513   3m introduces new line of protective foam eye ...             1\n",
       "273   hooded members of congress drown another love ...             1\n",
       "895   trump hints at obamacare replacement that woul...             0\n",
       "904           a big myth about how to spot a narcissist             0"
      ]
     },
     "execution_count": 6,
     "metadata": {},
     "output_type": "execute_result"
    }
   ],
   "source": [
    "data_new.sample(10)"
   ]
  },
  {
   "cell_type": "code",
   "execution_count": 7,
   "metadata": {},
   "outputs": [
    {
     "data": {
      "text/plain": [
       "(1152, 2)"
      ]
     },
     "execution_count": 7,
     "metadata": {},
     "output_type": "execute_result"
    }
   ],
   "source": [
    "data_new.shape"
   ]
  },
  {
   "cell_type": "code",
   "execution_count": 8,
   "metadata": {},
   "outputs": [
    {
     "data": {
      "text/plain": [
       "0    650\n",
       "1    502\n",
       "Name: is_sarcastic, dtype: int64"
      ]
     },
     "execution_count": 8,
     "metadata": {},
     "output_type": "execute_result"
    }
   ],
   "source": [
    "data_new.is_sarcastic.value_counts()"
   ]
  },
  {
   "cell_type": "code",
   "execution_count": 9,
   "metadata": {},
   "outputs": [
    {
     "data": {
      "text/plain": [
       "<AxesSubplot:xlabel='is_sarcastic'>"
      ]
     },
     "execution_count": 9,
     "metadata": {},
     "output_type": "execute_result"
    },
    {
     "data": {
      "image/png": "[encoded data removed]",
      "text/plain": [
       "<Figure size 432x288 with 1 Axes>"
      ]
     },
     "metadata": {
      "needs_background": "light"
     },
     "output_type": "display_data"
    }
   ],
   "source": [
    "sns.barplot(y=data_new.index,x=data_new['is_sarcastic'])"
   ]
  },
  {
   "cell_type": "code",
   "execution_count": 10,
   "metadata": {},
   "outputs": [],
   "source": [
    "lm=WordNetLemmatizer()\n",
    "corpus=[]"
   ]
  },
  {
   "cell_type": "code",
   "execution_count": 11,
   "metadata": {},
   "outputs": [],
   "source": [
    "for i in range(len(data_new)):\n",
    "    review=re.sub('[^a-zA-z]',' ',data_new['headline'][i])\n",
    "    review=review.lower()\n",
    "    review=review.split()\n",
    "    review=[lm.lemmatize(word) for word in review if not word in set(stopwords.words('english'))]\n",
    "    review=' '.join(review)\n",
    "    corpus.append(review)"
   ]
  },
  {
   "cell_type": "code",
   "execution_count": 12,
   "metadata": {},
   "outputs": [
    {
     "name": "stdout",
     "output_type": "stream",
     "text": [
      "['former versace store clerk sue secret black', 'roseanne revival catch thorny po', 'mom starting fear son web series closest thin', 'boehner want wife listen come wit', 'j k rowling wish snape happy birthday mo', 'advancing world woman', 'fascinating case eating lab grown meat', 'ceo send kid school wor', 'top snake handler leaf sinking huckabee campaign', 'friday morning email inside trump presser', 'airline passenger tackle man rush cockpit', 'facebook reportedly working healthcare feature', 'north korea praise trump urge u voter r', 'actually cnn jeffrey lord indefensibl', 'barcelona hold huge protest support refugee', 'nuclear bomb detonates rehearsal spide', 'cosby lawyer asks accuser come forward', 'stock analyst confused frightened boar market', 'bloomberg program build better city go', 'craig hick indicted', 'courtroom sketch artist clear manga influence', 'trump assures nation decision syrian air', 'qatar deporting dutch woman reported', 'go circus', 'ted cruz hit panic button could lose bot', 'writer must plan surprised', 'obama visit arlington national cemetery honor', 'ex con back behind bar', 'careful consideration bush recommends oil', 'remembrance beginning task', 'ally islamist motive killing nemtsov non', 'gillian jacob like kiss adam brod', 'uber vow repay nyc driver ten million', 'apple may poached electric motorcycle company', 'drug resistant bacteria often lurk child', 'see muslim airport', 'giant altoid heading toward earth', 'moana sail straight top box offic', 'selig counted money baseball lost next g', 'robin williams inflicted holiday moviegoer', 'devin nunes vow never reveal source surve', 'scott used stop breathing nearly time ho', 'rescuer heroically help beached garbage back', 'medic drop soccer player stretcher tic', 'give gift play holiday season', 'christian bale visit sikh temple victim', 'spicer denies ending maternity care guarantee', 'right live life complete stunned horror', 'nasa almost positive mar rocky', 'monster undeterred night light', 'diy sport equipment closet', 'dead injured shooting concert n', 'longtime teacher retires without changing single', 'donald trump heading series win n', 'donald trump ready cash', 'new star war film disappoints die ha', 'bat shooed nation waterslide tunnel', 'mobile news crew report van breaking', 'un right chief call humanitarian situation sy', 'track santa claus flight around world', 'obama colorado appraised', 'trouble tv africa', 'brita unveils new throat water filter', 'report john grisham slowly surely climbing li', 'ghost make simple cup coffee without ev', 'tupperware never truly recover red curry', 'one planet powerful force chang', 'draymond green take game next', 'area woman said sorry time yesterday', 'ryan lochte apologizes behavior rio', 'north dakota heard hour', 'lesson prison taught power control', 'sick fuck line gape dead body', 'america first muslim fraternity really l', 'vicious knot syria untangling process', 'congressman think fix economy', 'breast implant found cause problem laborat', 'trump order strike syria retaliation c', 'ceo funeral networking dream', 'year round schooling would help minority', 'zen teacher pledge change culture fost', 'nypd weighs allowing chokehold following eric gar', 'sonny bono foundation prevents risk youth', 'pope francis reminds world caring', 'year old cry told mtm production kitten', 'ex boyfriend thought check throw', 'doctor restore ken burn full color vision', 'gravity year slave tie pga awa', 'national coming day lgbtq sport peop', 'john oliver lay disturbing way w', 'house gop crackdown continues', 'must make sure skill please', 'man visiting hometown amazed find child', 'look world cup star attacked giant bug', 'clinton becomes first president clear foot', 'hunter thompson shoot mouth one last time', 'inhofe grand climate conspiracy theory', 'question wish younger people would stop askin', 'albuquerque shooter loose gunman leaf', 'like lose everything flood', 'demi lovato drop emotional nightingale music vi', 'miley cyrus liam hemsworth smooch nye', 'jealous gps clearly want man back wife', 'park rec star natalie morale come', 'top italy tour', 'kaia gerber cindy crawford daughter land majo', 'l grant clipper new net', 'james corden roast david beckham matching', 'caf add heartbreaking little lunch menu', 'mcdonald say packaging percent', 'kris jenner turned way drunken vale', 'whale regret eating plastic poker chip', 'texas ebola patient fighting life', 'late audition asks perfect actor f', 'robert de niro turn movie role', 'scott pruitt sort answer whether trump belie', 'accused father son urinal thief flushed', 'take slow fine drunk dri', 'libertarian fuel million super pac philad', 'air force longer require help god', 'paul newman dy consuming hard boiled eg', 'yak chew thoughtfully', 'man worried drug dealer picking', 'dad recommends hotel mile away city r', 'explosion fell building outside paris killing', 'source donald trump military expertise fi', 'union claim sander campaign staffer posed', 'seattle mayor accuser sex abuse lawsuit come', 'southern comfort comfort southerner', 'swedish police featured film shown fox news', 'chromat feature plus size model', 'councilman call baltimore rapper inspire', 'quality inner spirit', 'chubby jewish boy dream one day next apa', 'parenting advice dare give', 'family chooses different dog reincarnated gra', 'celebrity celebrate fourth july fun', 'international woman day western woman sav', 'michelle phan youtube beauty bestie empowers', 'caitlyn jenner responds ricky gervais golden g', 'joy behar responds michael flynn guilty plea wi', 'thing one tell woman weight los', 'fan disappointed learn l ron hubbard scientolo', 'marriage break procreative difference', 'ne yo help raise million california e', 'elizabeth warren call donald trump racist bull', 'six dead hurt baltimore commuter school bu', 'fox news problem solver way head', 'kim gordon clarifies comment lana del rey', 'bashar al assad try tiny bit sarin gas sel', 'niece cancer ticked', 'supermodel stephanie seymour arrested charged wit', 'scoliosis need know', 'controversy erupts uk retailer remove gende', 'teacher bitch paycheck sixth grade clas', 'area insurance salesman celebrates th year qu', 'friend always best behavior around neil labute', 'man vow never watch another sci fi movie', 'biologist announce done rodent', 'megyn kelly donald trump done level', 'secret behind one day project going viral', 'creating leverage none seems exist', 'new movie tap nation love rapping kanga', 'newspaper starting worry spending much time', 'lawsuit black life matter cen', 'vatican putting feeler public would r', 'wire cast reunited baltimore uplift co', 'obama supreme court nominee bragged', 'death c man security guard custody ruled', 'boehner vow leave successor clean slate', 'trump make last minute push appeal white', 'facing rising sea remote alaskan village vote', 'child fondest memory time dad try', 'worst place world child', 'mom sentenced encouraging boyfriend sex assa', 'donald trump assault value', 'woman march inspired run r', 'worth america', 'gop senator ready accept trump', 'price gouging pharma ceo take cancer company', 'man failing heed harsh lesson past order', 'ken burn completes documentary fucking liar', 'magic markered initial fail deter breakroom ri', 'straight outta compton stunning surprise', 'carly rae jepsen released new single al', 'god humbled answer jeopardy clue', 'female barista getting lot better avoiding', 'gunman kill one wound four shooting germa', 'couple point comfortable using', 'mountain lion tracked scientist found dead', 'noah cyrus make late night debut belting', 'scalia go abortion bender passed', 'campbell unveils one big sized noodle', 'area man going finish fry', 'taylor swift used gremlin voice writing', 'restaurant eating challenge reward patron w', 'fun sticker placed child ventilator', 'best way eat avocado avocado pasta', 'one mcdonald plate holy shit', 'open letter progressive tpp yet th', 'modern day lancelot offer pay abortion', 'united airline offering immigrant special flight', 'sun thinking collapsing getting th', 'justice thomas wife call supreme court retiremen', 'trump retweets video anti muslim hate group', 'long silent facebook friend come woodwork', 'struggling airline helped friendly giant', 'way breakup like bos', 'sure seems like frankie muniz want malcolm', 'using united fiasco flourish future', 'unemployed sibling make last push group mothe', 'voted america favorite pin number', 'thank teacher thursday dominic casulli', 'toe arctic ocean canada northwest terr', 'never happen', 'mark zuckerberg cited contempt congress aft', 'rubio supporter get scuffle rubiobot', 'music stranger film review dr lloyd', 'dsm updated accommodate man legitima', 'purina debut new slovenly feast nasty as', 'obama chides darrell issa touting alliance wit', 'pope francis iraq peace message meet reality', 'ant man wasp trailer brings fun afte', 'frontier airline tell customer fucking', 'moses red sea', 'everyone forgets bring swimsuit coworker', 'george takei accused groping former male model', 'new york time add color target demog', 'hollywood boy club support casey affle', 'myth low libido', 'girl scout rocked cooky cash fundraisi', 'christian juggler regret year wasted secular', 'huffpollster american see progress room imp', 'world miss goal universal education', 'jennifer lopez name jennifer lopez', 'rebuild credit bankruptcy fa', 'discover climate change rapidly transformin', 'man everything last minute wonder', 'voting line shorter mostly white', 'conrad bain step national kitsch referenc', 'amanda slavin statistic', 'laurie hernandez val chmerkovskiy already', 'new photo show hurricane matthew path destru', 'florida lawmaker vote ban marriage', 'nasa inadvertently launch unmanned space shuttle', 'nick viall longer bachelor', 'america demonizes teacher', 'new instant lottery game feature three way wi', 'podcast cry help', 'fashion designer peter som legendary minestrone', 'photography series spotlighting iconic woman', 'clairvoyant vince vaughn accepts movie role', 'report kenan thompson leaving snl deemed ina', 'woman hid heroin oxy fake butt cop say', 'cry', 'isi g world', 'melania trump hang decayed badger carcass wh', 'woman admits watched golden globe', 'sarah huckabee sander defends trump sexist atta', 'saying goodbye hollywood hottest seediest ad', 'bush increasingly focused revisionist histo', 'year later human genome pave way', 'man claiming boko haram leader appears ne', 'live knowing proof heaven', 'pilgrimage india', 'religious freedom advocate oppose roy moore', 'uaw fca still negotiating hour hour co', 'bernie sander wanted solve problem like', 'right way write', 'rest evening spent declaring asshole going', 'north carolina seem want people see', 'education department officially deal wit', 'participating black friday', 'hooded member congress drown another love chil', 'merkel isi pose major risk europe', 'alcoholic kindergarten teacher stretch naptime', 'report store good kind', 'devastating flood leave dead west virginia', 'obama greatest oratory performance', 'grandmother palm grandson like fixing box', 'bumper nilla crop spell profit wafer grower', 'summer salad actually crave', 'black key new album turn blue availa', 'isi v isil name', 'national trust historic preservation pay fo', 'list name gchat sidebar like portal', 'tomi lahren suing glenn beck theblaze', 'greg hardy unapologetically denies domestic abuse', 'tourist describe scene horror tunisian bea', 'trump voter blink', 'photo ahs set may help explain c', 'study couple delaying divorce kid ol', 'never heard buzzword flying around office c', 'man certain coworkers name', 'psychologist push smartphone warning label', 'clinton receives honorary degree coll', 'scavenger hunt party leaving without twine', 'republican obamacare dilemma one minute v', 'mass graf suggest systematic killing rohingya', 'final german u boat surrender allied power', 'private prison company still lock immigr', 'woman head feared lost forever inside infinity', 'fed brookstone body massage chair ente', 'trump asks entire senate clear chamber', 'grateful dead lyricist internet pioneer john perr', 'new report find american interested scie', 'new york time move content give', 'philippine president call civilian kill', 'woman perfectly break', 'chicago police department monitor interacti', 'amid chattering global elite silent', 'least ethical issue dogging epa adminis', 'ask tell', 'weird black dot actually part bowl', 'vega baby well minus baby', 'people really like kanye new song real friend', 'suede piece want wear spring', 'fcc sentence artie lange death', 'behold title american horror story season', 'football loving american harassed wearing tur', 'health', 'new job posting craigslist clearly secretar', 'seth meyers loses thanksgiving proximity', 'way knicks trade carmelo anthony', 'parent fight save two daughter tr', 'quiet practice found voice', 'fcc assures nation favorite verizon website', 'everyone told second child would much', 'report still nowhere near okay act like', 'man reportedly unleashes trump inspired anti lgbtq', 'white sprinter finish fifth', 'finding voice wendy davis', 'obama begin inauguration festivity ceremon', 'lindsay wagner star anything offered', 'democratic senator stride corridor power', 'trump rage campaign opened door', 'looking happiness wrong place', 'swarm drone dance beethoven symphony', 'fatal school bus crash cement bff status', 'makeup look easier achieve elle claim', 'outfit got woman kicked', 'bluetooth headset worn throughout date', 'breakroom tension time high following mug', 'depression symptom checklist speaking area man', 'parent formally announce transfer expectation', 'saturday night live celebrates halloween sp', 'steven spielberg career salvaged', 'local laundromat employ social medium coordinator', 'partygoer vow fix keg', 'right handheld device shoot deadly', 'oscar countdown begin', 'disaster movie tame compared happened', 'washington c officer shoot woman carrying knif', 'face hidden history plastic surger', 'knicks fan open letter santa', 'wolf blitzer deck boston man heal', 'donald trump america blood sport choice', 'time end subsidy destroying forest', 'netflix shut planned louis c k comedy spe', 'trump undercut easy obamacare attack dig abo', 'narcissist mentally undress self', 'got exclusive look hillary dnc speech', 'watch john kasich lead awkward david bowie sing', 'pro governing faked', 'social medium detox helped ed burn become mo', 'outdoor movie guest excited watch barely audibl', 'north korea claim planning fire missile', 'gorillagram employee shot white house security', 'make month old fall love rea', 'weirdest thing people left behind', 'arkansas executes first inmate year', 'meet baldwin brother james', 'sadder pride washington inaction', 'brad pitt stumble across old cardboard box g', 'shonda rhimes motivation behind weight', 'obama plan tackle major education inequality', 'teaching learning college rating framewo', 'fashion forward pigeon sport bread necklace bo', 'video relaunches investigation death man h', 'whoopi goldberg say oscar rac', 'housefly track dog shit cucumber slice', 'hillary clinton open new presidential library cha', 'bounty brawny ceo wearing patience mutua', 'sherman alexie say artist trump n', 'visibly flu stricken choir kid really dragging dow', 'nbc news correspondent ayman mohyeldin returning', 'tim robbins tired typecast relatively', 'sen tom cotton think tough guy trump ready', 'leather clad ted cruz greeting voter reno area', 'man family rise record high fourth priority', 'mike ditka paying attention histor', 'mom would wanted evolving course', 'simple task going post office feel like wei', 'report crazy shit probably happened class', 'ivanka trump incorrectly name judaism', 'rescued lion obsessed blanket since', 'county fair judge blown away heifer', 'best toy shop prime day kid', 'sander phenomenon', 'clinton staff ready emp launch disable na', 'khloe kardashian join waist gang', 'next week republican debate utah canceled', 'trove lost found photo reveal one myst', 'bear family pool party cutest backyard inva', 'dustin hoffman accuser speak alleged ab', 'another open letter betsy devos public', 'tip boost career', 'video show transphobic man preaching target ge', 'xmasgiftsfromtrump wish list give trump', 'ronda rousey eerily predicted would lose', 'police release haircut progressed photo missing', 'brief pun intended history lawyer movie', 'gifs memphis grizzly weathered epic ok', 'stomach set aside synthetic additive ha', 'russia denies compromising information', 'comic offer bible reader', 'breaking uniform', 'congress approves billion', 'fascinating forgotten fact world war', 'taylor swift dating watertown boat', 'rapture wreaks havoc local book club', 'key setting achievable goal', 'shopping guide cyber monday need', 'donald trump say refugee crisis threat uk', 'science fiction writer admits unstoppable killing', 'gunman kill least two american adviser kab', 'kris kobach defends using private email gove', 'year old denies girl liking allegation', 'stray dad found lumber section home depo', 'office manager unveils new rule', 'charles darwin sunmine', 'another way company make harder new mothe', 'sheet changed every breakup', 'want make meeting productive start walki', 'man overjoyed longer purchase entire', 'watch stone brewing evacuates wildfire approac', 'military prosecutor senate report cia interrog', 'national park service study historic lgbtq site', 'safeguarding america health system sabotage', 'jonathan safran foer guess time give', 'skydiver luke aikins make jump without parachut', 'study universe actually shrunk inch', 'power crazed orkin man burn house ground', 'couple fucked presex ritual involves tucking', 'senate republican kowtow trump th', 'viral photo capture incredible moment pol', 'google employee disappointed th anniversary par', 'study average american try getting', 'rnc build levee poor people protect con', 'romney delivers stern warning china speaking', 'inside story congress sent stock', 'voter shocked christie botched easy polit', 'desperate dole promise best prom ever', 'different kind mom', 'uber halt self driving car test california w', 'tiger mother fresh boat eddie hu', 'donald trump think roger goodell weak stup', 'trump say congress change libel law', 'shirtless goofball flag underwear invades field', 'local moviegoer enjoying movie far', 'chinese parent say love', 'american say white house creating pro', 'theater major long borne shakespeare teach', 'lancet breakthrough publishing faith', 'area grasshopper kind thorax man', 'freemason return jupiter', 'banjo wielding matt damon make last minute bid fo', 'criticism cleveland official outline co', 'new teen trend walking wet nude hav', 'justin bieber interrupt performance scold span', 'mudbound oscar nomination place netflix big', 'area man us wtc attack excuse call ex girl', 'mccain get hammered local vfw', 'year old christmas list demonstrates heartbre', 'kendrick lamar taylor swift weeknd lead', 'slight inconvenience avoided', 'frustrated fcc unable stop use word friggin', 'nbc dramatize menendez brother murder law', 'police assume truck deliberately driven b', 'area man clean apartment every relationship', 'shooting orlando chef provide thousand', 'gop sen jeff flake come say par', 'dentist offer buy back halloween candy', 'mta official assure new yorkers today subw', 'routine drunk driving trip turn tragic five l', 'grizzly bear sprained paw mauling hunter', 'trump selects longtime personal plane head faa', 'new antidepressant make friend problem seem wo', 'restaurant teach former inmate cook help', 'entrepreneurial rule live', 'laser pointer aimed toward space finally', 'man skipped airport moving walkway immediate', 'thing probably know christmas', 'paul beatty becomes first american win man book', 'favorite female star war hero finally ge', 'nation check cnn com see old pa', 'small town beginning wonder taking heroin', 'new ted cruz super pac take record haul', 'domestic abuse survivor give young victim su', 'dog smell grandma scent set quest fi', 'smb changing way business', 'president american manufacturing council', 'world physicist complete study physic', 'really listen difficult conversation', 'heroic turtle dial', 'really like miscarriage', 'business say anti lgbt bill could cost texas bi', 'accused killer wanted army people', 'avid fisherman forever ruin fishing son', 'british public hunt witch mark th', 'nation relieved insufferable little game thron', 'best volunteer program', 'nasa completely forgot probe returning today', 'introduces new line protective foam eye plug', 'michael b jordan set fire first fahrenheit', 'astronomer predict giant asteroid hit nation', 'hero common man talk plumber entire', 'social unity important say pm modi', 'roe made abortion legal keep wome', 'hussein judge hoping fair speedy assassinatio', 'savvy man register sleepy romney twitter accoun', 'dreamer face nightmare trump deportation', 'third world disease eliminated hot air hand', 'whoop selfie snapper smash sculpture day afte', 'aspiring actor dream one day publicly voicing', 'swiss unable maintain neutrality toward delicio', 'thing parent college kid hate', 'thousand new orleans household still without', 'watch underreported story reuniting family w', 'yahoo newfront pulse steve aoki edm beat', 'look goddamn beautiful', 'lose islamic state obama administra', 'eric bogosian operation nemesis genocid', 'antarctic observational comic running idea', 'thousand protest moscow housing plan', 'new pixar employee required watch adorable sex', 'cosmopolitan release year compendium', 'row asterisk spice otherwise ordinary e', 'tattoo shop creating safe accepting', 'sears gold card holder pushing weight around area', 'author jeff lindsay say goodbye serial killer', 'work drink enter third excruciating minute', 'koch network spent nearly million', 'noose university delaware', 'man already whole sentence lined later', 'area waitress one hell as local', 'unbeleafably adorable gift plant lover', 'cuomo make surprise afghanistan trip', 'drummer girlfriend think sing', 'nobody watched matthew mcconaughey forgotten', 'pope francis admits god really starting look ol', 'becoming parent done', 'video icantbreathe poem house floor', 'man somehow overcomes alcoholism without jesus', 'donald w bush', 'mom us full name refer bisquick impossibly', 'congressman call trump idiot using egypt', 'luke bryan say confederate flag become sym', 'rich first grader buy whole sheet gold star', 'german', 'kentucky governor echo trump side bla', 'caitlyn jenner helping better', 'new apple campaign urge consumer buy iphone f', 'woman dozing coffee shop dave egger', 'manager combination taco bell kfc secretly con', 'could hillary clinton take defeat', 'wild tale outstanding black comedy cannes', 'donald trump prefers violent football blac', 'black ribbon balsam', 'buttermilk biscuit recipe want need', 'ai weiwei commemorates drowned refugee ber', 'restriction journalist agreed order', 'year old put uno face', 'little boy stand tall', 'jake tapper one word response creepy kellya', 'poll show support birth control mandate ev', 'death row inmate loses fight kosher food', 'jada pinkett smith gabrielle union end feud af', 'huffpost rise need know february', 'dear mr president dispatch bowling green', 'shinto priestess killed brother sword', 'journalist push back correspondent associati', 'nina dobrev address rumored return vampi', 'theresa may edging towards donald trump scold j', 'child assured long time dy', 'new year eve prank leaf year old glued mc', 'prosecutor tamir rice case bizarrely pointed', 'wrong picture u fight aga', 'afi doc policy meet art', 'school bully tough since molested', 'real mother mother day', 'dad shoot daughter teaching gun', 'unexpected way help kid mindful abo', 'dee bogetti gps guide living moment', 'paul ryan confident american people warm', 'war torn blood soaked kosovo would bombing', 'starving fantasy', 'bill clinton waiting primary endo', 'volkswagen wa', 'read read part', 'hillary clinton loses lead bernie sander', 'several woman accuse progressive medium executive', 'success still enjoying happy place', 'last year real wake call area man', 'pollster admit underestimated voter adrena', 'lin manuel miranda freestyle life', 'john lewis attend civil right museum openin', 'trouble brewing npt review confere', 'area man going go ahead consider dat', 'senator mauled congressional tiger show', 'huffpost hill secret service agent really glad', 'kite flyer zone', 'bacon one sprint new downloadable ring', 'photograph remember', 'u bobsled team pay tribute late gold medali', 'among santa fe many virtue history art cultu', 'power plan foe mar backer venus ear', 'journalist refuse take non answer', 'nuke global schism', 'weird relative family reunion know everyon', 'negro week new york world fair', 'trump threatens veto spending bill border', 'diy stress hack using closet', 'major concern phone call taiwan', 'weird wonderful cabaret chronicle karen ma', 'company hide financial risk', 'louvre garden teeming rat', 'trump poll macarena', 'boy george open happiness u', 'area woman decides post facebook status tha', 'sprint mobile ceo merge grotesque executi', 'patrick stewart read hilariously bad review', 'safeguarding well child', 'public health threat private anger', 'target dorm room essential aisle browsed', 'suzanne somers named u thighmaster general', 'friendly wildly hot reminder oscar', 'new hbo documentary show really like', 'watch story believe', 'golf sensation jordan spieth loses master h', 'first gay couple receives marriage license jail', 'world jew celebrate christmas ceremonial r', 'john mccain czar hater call ebola czar', 'father trump tower climber also importan', 'guy one show rehab', 'sander hit bill clinton welfare reform trade', 'white nationalist call trump denouncement ha', 'old milwaukee book world record confirms tit', 'new detail paint unsettling picture london', 'ask get history breast', 'facebook wallflower good th', 'woody harrelson spends two hour drawing marijuana', 'burger king franchise owner add sad little person', 'verb follow noun prepositional phrase follo', 'valentine best friend life b', 'importance collaborative', 'russian official scrambling plan delegitimi', 'obama sort freaked receiving sing', 'adele tweet apology stage rigging hit glas', 'pastor talking non christian lost wife', 'religious freedom clause point contentio', 'voter excited november despite really', 'everyone family compliment grandmother', 'eating entire box donut originally part', 'white house pretty sure uzbekistan diplomat stole', 'jared kushner quietly transfer solve middle east', 'year environment constant fear somehow f', 'internet personality michael buckley giving se', 'legend new york latex ball celebrate', 'man unfortunately sleep like baby', 'one last ruben studdard reference waft gently int', 'hubble telescope discovers giant amelia earhart st', 'trump telling joke nobody laughing', 'hundred miniature sean hannitys burst rog', 'kellie pickler hilariously miss buzzer ce', 'military institute new tell let guess', 'jeb bush insists washington outsider', 'washington post journalist jailed iran chri', 'coloradan deregistered trump request fo', 'watch vin diesel say groot different lan', 'artist stunning image honor moment one woma', 'voter glad got hope politician sy', 'new year resolution let college lead way', 'paris police arrest second couple notre dame', 'favorite beauty product', 'financial burden cancer harm quality lif', 'high schooler promise man impregnated', 'cnn anchor interview al jazeera anchor interv', 'quadruple bottom line time come', 'may holding back repairing brok', 'week trump take office obama', 'changing holiday shopping landscape', 'burger king introduces new thing throw front', 'road sign lot le helpful look', 'day chalked loss', 'australian lawmaker shoot opponent campaign', 'kinda creepy peter pan prank disney world', 'brownribboncampaign reminds u oscar diversity', 'high school elect gay year old homecoming king', 'george thorogood fan disgusted learn musician l', 'america future engineering need diversi', 'darrelle revis charged fight leaf', 'pay another bill pay', 'move houseboat regretted third day', 'buick regal named best vehicle class idling', 'arizona iced tea unveils new foot tall can', 'blm alicia garza launch census project mobi', 'police audio leaked killing unarmed black te', 'first time marathoner strength n', 'hate preacher qatar campus obama give qatar', 'th grade prodigy studying mathematics th gr', 'reminder help raise resilient kid', 'nation horrified learn war afghanistan', 'trump relaxes debate slipping back n', 'area liberal longer recognizes fanciful wildly', 'update onion immediately suspending prod', 'george foreman grill retires promote grill', 'study find leading indicator e', 'shooting copenhagen synagogue leaf dead', 'paris hilton impersonates kim kardashian kanye', 'international space station tented spray xe', 'ex boyfriend hope still terrible incompati', 'teen accepted college chooses full ride', 'transgender lawmaker danica roem trump show ther', 'shit friend said something obnoxious drun', 'weekend encounter coworker never acknowledged', 'study home contractor end accidentally', 'goth kid build scary as birdhouse', 'outbreak va va vooms traced miniskirt wearin', 'grandmother believe let people tat', 'th heaven cast reunites first time', 'meeting need nation rich', 'nothing libertarian conservative', 'yorkshire terrier monogrammed', 'pope clean dead angel flew sistine ch', 'remainder ross ice shelf smithsonian fre', 'panicked agriculture secretary momentarily forgets', 'introvert guide throwing solid holiday p', 'area client would like different font', 'fifth harmony lauren jauregui blast toxic hom', 'usda admits weight loss possible people wh', 'six teenager britain suspected killing poli', 'cuban new dictator wrong', 'obama fill lukewarm glassdoor review ex', 'bill henderson jazz vocalist actor dy', 'specific food pyramid recommends two three', 'alaskan gray wolf believe one told', 'emotionally recover election', 'man always taking good mood friend', 'essential trash free lunch', 'candidate delighted chair factory', 'woman know exactly knife grab', 'bored predator drone pump round mount', 'year old ne still wasting life playing video g', 'school enact positive change drama therapy', 'world map rearranged accommodate poor geography', 'woman leaving meeting worried came', 'professor threatened firing say wheaton coll', 'jfk jr celebrates th coupling', 'man stupid break co dependent relationsh', 'internet pop quiz insulting', 'suspension disbelief go unrewarded', 'late show updated trump election night spe', 'ancient flying beast named avatar creature', 'tennessee senate pass bill erect memorial', 'report one white castle want make frien', 'year old help candidate understand youth vot', 'word millennials forced headline boost p', 'dozen social issue thankful never', 'fox news struggling attract younger demog', 'string accident u haul announces clos', 'stake high bother white tear', 'growing holocaust writer', 'surprising way horse help ease alzheimer', 'beaver wait get started dam', 'huffpollster republican woman really like', 'know far new white house org', 'morbidly obese man enjoys disabled privilege', 'one push running president', 'madcap romp escalates zany hijinks', 'longevity secret world healthiest cu', 'perk divorced holiday', 'nation healed awesome sport highlight', 'mom demand action participate day wit', 'hillary clinton asian american outreach director', 'interview louise munson playwright luigi', 'suspect reportedly arrested explosive sent', 'writer call woman color divest len', 'area dad watch thing hd', 'unexpected place probably overeating', 'lemon sean spicer everyone dumber', 'kansa state refused investigate sexual assault', 'nfl player avery williamson wear cleat desp', 'trump confidant float crazy rbg merrick garla', 'u continues proud tradition diversity fr', 'south korean president meet north korea kim jon', 'nation financial advisor recommend capturing', 'michelle ross carson wild ride rup', 'content writer awkwardly show parent around web', 'possible viking find could rewrite north american', 'new detail emerge forgotten murder snared', 'watching face student finish lot', 'one prison sure jared fogle still eating', 'sean spicer say donald trump champion f', 'uncovered california community college student', 'debra messing want freak', 'nation delighted many famous people roo', 'area man winded particularly lengthy wendy', 'real reason happy married', 'biden busted dnc parking lot selling bootleg', 'white person waved past beeping walgreens security', 'khloe kardashian say one cocaine', 'genuine happiness seen game show', 'chewbacca got chewbacca mom mask', 'yet another donald trump pick habit sprea', 'dog trying absolute hardest', 'mississippi ban soft drink smaller ounce', 'explosion fedex facility outside san antonio', 'cupid cop gave rose card valentine day', 'fox news host disavows internment camp pan', 'reince priebus say late new cand', 'minnesota caf charge cent fee protest mi', 'asshole plane greeted baggage claim', 'american dreamer age trump', 'hillary clinton celebrates confederate flag remo', 'david brook obama manhood problem', 'terrorist attack u', 'everyone proud grandma staying awake', 'nypd secretly spying cell phone', 'republican urge obama administration crack dow', 'floor plan retirement community defibrillat', 'voter state navigating new rule try', 'arne duncan stressed preparing standardi', 'tom brokaw touched many woman would go', 'stop complaining evolution text langu', 'half dressed man frantically scramble home', 'tech future report local dad', 'trump fulfills campaign promise pushing major', 'communication matter getting message', 'son surprised dad know johnny cash song', 'man suddenly regretting asking taken serious', 'eleven year old miniskirt pump vague notion', 'cinemax director win award skinematography', 'doctor unable hide excitement patient', 'dozen injured train collide pennsylvani', 'ed sheeran sang chasing car wedding n', 'game throne producer reveal series moved', 'girl scout announces never ever let gros', 'un rebuke trump jerusalem move overwhelming', 'father day tribute family man', 'white house geologic era deba', 'professor try figure bae fl', 'house republican spending bill seek block obam', 'fred durst spray paint limp bizkit bridge', 'democrat panic one poll showing', 'bored kim jong un stack entire north korean popul', 'human laying welcome mat mosq', 'jennifer lawrence honored robert de niro gl', 'unexpected way use grapefruit', 'study meowing come owner trying', 'photo show special bond mom', 'star war fan freaking jedi', 'study headache body way communicati', 'jimmy carter learned make wife rosalynn', 'gop congressman complains woman grill', 'religious leader group appalled trump', 'louse blast trying different wig co', 'place gone year ago', 'chicago top prosecutor try officer', 'big eye quiet feminist v', 'bloomberg gadfly debut bid shake financi', 'harry reid republican acting puppet', 'little tobacco hit hundred lawsuit', 'woman business q rebecca henderson group pr', 'mike penny disappointed husband', 'jeff flake delivers searing critical applause', 'michelle obama explains uncertain term', 'republican food stamp bill would cut benefit', 'russian mint trump trust coin ahead u', 'kristen wiig fake trailer jimmy kimmel ne', 'patient limited english likely r', 'dear baby boomer step aside', 'spend cent bitcoin see john', 'celebrity mourn anne meara twitter news', 'need know obamacare enrol', 'relationship expert recommend single woman try ba', 'married couple longs day quiet', 'group friend chanting shot make compelling', 'blind date pronounces every syllable word comf', 'hope', 'science backed reason see therapist', 'turkish president muslim family engage', 'claire dane expecting baby number two hug', 'vlogger shamed walmart fitting room', 'university texas echo confede', 'trump hint obamacare replacement would lo', 'bad as engagement ring also tell time te', 'director paul feig say men speak af', 'advertising firm unveils new mute resistant commer', 'rookie justice gorsuch assigned supreme court', 'mike penny take oath office country next', 'rex tillerson blindsided news still worked f', 'fight obama treasury nominee underscore ba', 'rommel hummel dominate parent christmas list', 'big myth spot narcissist', 'doll housing crisis set worsen mean older brot', 'slushing utah end ski season', 'candidate voter think actually', 'missing maryland toddler body found ohio cree', 'terrified jeb bush beginning fade visible', 'adele celebrates titanic themed th birthday', 'changing weather inspires area conversationalist', 'fourth tool discovered', 'texas public school district may store', 'hentai message board feature surprisingly close k', 'hootie blowfish breaking racial barr', 'study snapping three time leading way recall', 'donald trump insists complete power', 'syria ceasefire backed russia turkey hold', 'french parliament debate deep sleep bill en', 'reality risk reward u kid tv ripe aut', 'transcript email show tabloid reporter help', 'trump america shining city hill', 'photographer assumes endless identity mot', 'stripper surprised talked homicide', 'justin bieber fan jealous anne frank', 'elevate leadership', 'woman face halloween dummy get repeated', 'new object available gummi form', 'kremlin agent even going bother trying c', 'future blurry', 'pg rated facebook alternative evangel', 'donald trump unqualified president major', 'body given false hope first piece fruit', 'missouri democrat filibuster hour stop', 'year old reporter told cute lan', 'craigslist missed connection delightfully', 'african nation war torn', 'three chinese tourist dead six people missing', 'god announces successful test first category', 'lone geek sits self reading silmarillio', 'happens ask arya stark wr', 'alex jones pleads sandy hook parent imagi', 'rescue animal get help need thanks', 'goldfish stand bowlmate', 'john legend speaks crack system caus', 'police launch investigation video appears', 'nasa discovers distant planet located outside fund', 'judge asked keep knee toget', 'white house prepares send congress billion', 'gop race head south carolina known dirty', 'kindergartener allegedly barred school becaus', 'george trash bill reilly wise', 'ohio voter get decide legalizing marij', 'best ifttt recipe make va', 'last living california raisin dy prostate', 'microsoft debut surface book first laptop p', 'fda confirms psilocybin reduces risk mindlessly', 'fourth death new york legionnaire disease', 'national weather service give hurricane full n', 'william h macy ultimate dad moment dancing wi', 'warm temperature bring hot deal winter gear', 'sarah huckabee sander flatly reject jim acosta', 'reno order investigation u department co', 'billion electric signal neuron allow', 'unapologetic self portrait shatter perceptio', 'scientist discover eating serf function', 'library burning sarajevo mosul', 'realized year searching', 'astoria character charity stager', 'dolby theatre usher throw matt damon atte', 'pound butter cow sculpture win iowa caucus', 'bill reilly tearfully pack framed skirt p', 'trump army secretary pick victim gay gest', 'candidate preparing colorado debate condition', 'drama desk way', 'magazine editor undergoes sleek new redesign', 'town nervously welcome veteran back home', 'local student also poet', 'wonderful life almost racy th', 'ariana grande performs break free snl', 'unconditional love given year old c', 'newborn prince cambridge begin consolidating p', 'congress abandon wikiconstitution', 'electorate', 'self defense instructor keep couple secret', 'adorable puppy net owner handjob', 'super annoying thing help whine', 'man bitten radioactive sloth lying aro', 'quake claim hour', 'teen football recruit make bold statement b', 'illinois safest city', 'unconsciousness faked make anesthesiologist fee', 'trump hail gorsuch fierce protector future', 'historical archive two feared dead near ch', 'prison warden vow take away el chapo tunnel', 'mother precious misunderstood many moth', 'new baby weinstein tape prepare infant car', 'step get shy sociable', '', 'california marijuana business get first co', 'really happens infected meas', 'labor secretary letting million unemployed ameri', 'republican face last minute doubt tax pr', 'pope beatifies god important step toward sainth', 'presence three round object trigger juggling', 'lgbt activist question left ben carson', 'want get inked seeing tattoo', 'many senator developing simple tool governin', 'mike penny say stand president', 'new study confirms shark really angry dolphi', 'high school student council pass nonbinding reso', 'twitter win dismissal lawsuit alleging islamic', 'teacher allegedly share nude photo boob j', 'report least different type animal cra', 'young democrat prefer bernie sander new poll fi', 'nation start giving shit cana', 'almost million people enroll obamacare despi', 'would bernie sander supporter take', 'best chance defeat roy moore may', 'snapshot summed parenthood', 'ryan seacrest sell squad goal series cbs', 'pope francis meeting rohingya refugee wept', 'gop sen bob corker trump demonstrated st', 'biden loses control butterfly knife comm', 'new office manager provides terrifying glimpse int', 'love first', 'quick painless death top holiday wish list lo', 'trump lawyer dish russia probe steakhouse', 'call shitty music top album c', 'hour scrolling facebook bed refe', 'man proposal boyfriend musical', 'report gay people actually refer self', 'supreme court understudy fill scalia', 'rd birthday party stretch definition party', 'gay high school legislator', 'fighting monster', 'surprise surprise christopher nolan fan', 'lin manuel miranda raffling hamilton date', 'seeing eye dog really blow steam dog', 'amanda seyfried gave birth first child', 'college freshman already love', 'refugee blue', 'lanthanum quits periodic table element', 'full podcast season holiday binge list', 'watch top chef michael voltaggio read one star yel', 'frustrated dad restaurant want normal b', 'triple amputee dream wedding brings community', 'rand filibuster two fer', 'arab cartoonist fight freedom expr', 'sense knocked girlfriend son', 'biologist still uncertain evolutionary func', 'policewoman flashed badge cop con', 'hot new murder craze sweep chicago', 'ruth bader ginsburg say cooler head pre', 'elementary schooler clearly learned swear', 'bp clean water act fine smaller gu', 'two hipster angrily call hipster', 'man carrying knife bible fatally shot st l', 'lara flynn boyle publicist warns interviewer upf', 'riverboat horseracing fails utterly', 'reagan honored head funeral', 'shot survived relive', 'u lead world mexican food availability', 'report peaceful transfer power make last minu', 'u upset alien land italy', 'delicious way vegan holiday feast', 'apple announces plan new ipad extra stor', 'epic degree photo make feel li', 'teacher frustrated one beginner yoga class c', 'parent baby godmother uncomfortable ar', 'area woman slam phone wait ring', 'britney spear receive prestigious honor', 'law abiding citizen keep track', 'f scott fitzgerald estate wondering hell', 'conservative urge facebook user use american', 'aviva see light', 'ruby tuesday waiter warns jill stein green par', 'stressed sean hannity buy little cabin', 'new report find link passing day je', 'nation sleep expert recommend cutting', 'israel terrorizes palestinian gaza', 'many boomer delaying retiremen', 'lunar olympic official continue search missin', 'bernie sander mike lee want fight', 'bos think female employee might ready hand', 'course busy bartender mind taking pictu', 'pay income tax social security', 'hilarious hipster classified probably', 'second grade music student go nut cowbell', 'temporary worker permanently scarred', 'antarctic observational comic running idea', 'area man take metallica audio tour art museum', 'congressman say new york city gunman got raw dea', 'activist isi militant kill attack', 'uncertain fate man police brutal', 'god loses tip finger black hole accident', 'gary richrath guitarist songwriter reo sp', 'song defined boomer generation', 'convict sentenced generating', 'bookworm year old wrote anthem fo', 'metallica board director debate whether new r', 'big bird beastie boy mashup tell get', 'unorthodox guided meditation might get', 'texas city unsafe water th time', 'roy moore refusing withdraw alabama yea', 'top reason glad grew without facebook', 'astronomer celebrate th anniversary discove', 'katie ledecky year old u swimming sensation', 'twitter tire knocking conor mcgregor', 'historical archive immoral woodcut discovered', 'evil genius cat subpoenaed', 'plan live storage facility voiced', 'watch heroic driver rescue scared dog dashing', 'official investigating hugh hefner death suspec', 'completely unrealistic tv character complex', 'new bin laden tape contains three previously unrel', 'china sexiest panda obliterates record la', 'woman business q laura tenison founder', 'sir mix lot trying speak woman wit', 'churchgoing widow get hot', 'naked man sleep drink whiskey subway nsf', 'patton oswalt want know f king', 'ball park frank introduces new foot wide hotdog', 'ariana grande issue donut fiasco apology video', 'cuba buy car', 'army judge rule trump comment influence', 'chew co host want kid know mom', 'al qaeda marching band join macy parade', 'congress approves billion medicruelty', 'taco bell fast food', 'pier issue formal apology rattan death marc', 'indian sweatshop worker work fucking', 'loser even get wife pregnant', 'woman ninth year letting boyfriend easy', 'thing come apart easily asghar farhadi abou', 'owner pleads cat react fuzzy object', 'authority believe man radicalized serving', 'gross national product surpassed grotesque nati', 'maintaining neutrality new york time', 'philip morris introduces new marlboro sinus pm cig', 'man got figure book deal tumblr acc', 'mix queer experimental film festival coming', 'executioner enters lethal injection room bag', 'report middle east quickly running land ar', 'adorable dog playing snow', 'vacationing man miss remote control', 'email show richard spencer bounced chec', 'sustainable etsy store support', 'boarding school student receives wet william', 'prince charles think boy finally old enough', 'family worried grandma going conversati']\n"
     ]
    }
   ],
   "source": [
    "print(corpus)"
   ]
  },
  {
   "cell_type": "code",
   "execution_count": 13,
   "metadata": {},
   "outputs": [],
   "source": [
    "from sklearn.feature_extraction.text import TfidfVectorizer"
   ]
  },
  {
   "cell_type": "code",
   "execution_count": 49,
   "metadata": {},
   "outputs": [],
   "source": [
    "tv=TfidfVectorizer(max_features=2000)\n",
    "x=tv.fit_transform(corpus).toarray()"
   ]
  },
  {
   "cell_type": "code",
   "execution_count": 50,
   "metadata": {},
   "outputs": [
    {
     "name": "stdout",
     "output_type": "stream",
     "text": [
      "0.5\n",
      "2000\n"
     ]
    }
   ],
   "source": [
    "print(x[1].max())\n",
    "print(len(x[0]))"
   ]
  },
  {
   "cell_type": "code",
   "execution_count": 51,
   "metadata": {},
   "outputs": [],
   "source": [
    "y=data_new['is_sarcastic']"
   ]
  },
  {
   "cell_type": "code",
   "execution_count": 52,
   "metadata": {},
   "outputs": [
    {
     "data": {
      "text/plain": [
       "0    0\n",
       "1    0\n",
       "2    1\n",
       "3    1\n",
       "4    0\n",
       "Name: is_sarcastic, dtype: int64"
      ]
     },
     "execution_count": 52,
     "metadata": {},
     "output_type": "execute_result"
    }
   ],
   "source": [
    "y.head()"
   ]
  },
  {
   "cell_type": "code",
   "execution_count": 53,
   "metadata": {},
   "outputs": [],
   "source": [
    "from sklearn.model_selection import train_test_split"
   ]
  },
  {
   "cell_type": "code",
   "execution_count": 54,
   "metadata": {},
   "outputs": [],
   "source": [
    "x_train,x_test,y_train,y_test=train_test_split(x,y,test_size=0.3,random_state=42)"
   ]
  },
  {
   "cell_type": "code",
   "execution_count": null,
   "metadata": {},
   "outputs": [],
   "source": []
  },
  {
   "cell_type": "code",
   "execution_count": 55,
   "metadata": {},
   "outputs": [],
   "source": [
    "lr=LogisticRegression()\n",
    "sv=SVC()\n",
    "gb=GaussianNB()\n",
    "mb=MultinomialNB()"
   ]
  },
  {
   "cell_type": "markdown",
   "metadata": {},
   "source": [
    "# Fitting Logistic Regression Model"
   ]
  },
  {
   "cell_type": "code",
   "execution_count": 56,
   "metadata": {},
   "outputs": [
    {
     "data": {
      "text/plain": [
       "LogisticRegression()"
      ]
     },
     "execution_count": 56,
     "metadata": {},
     "output_type": "execute_result"
    }
   ],
   "source": [
    "lr.fit(x_train,y_train)"
   ]
  },
  {
   "cell_type": "code",
   "execution_count": 57,
   "metadata": {},
   "outputs": [],
   "source": [
    "y_pred=lr.predict(x_test)"
   ]
  },
  {
   "cell_type": "code",
   "execution_count": 58,
   "metadata": {},
   "outputs": [],
   "source": [
    "lr_score=accuracy_score(y_test,y_pred)"
   ]
  },
  {
   "cell_type": "code",
   "execution_count": 59,
   "metadata": {},
   "outputs": [
    {
     "name": "stdout",
     "output_type": "stream",
     "text": [
      "0.6184971098265896\n"
     ]
    }
   ],
   "source": [
    "print(lr_score)"
   ]
  },
  {
   "cell_type": "code",
   "execution_count": 60,
   "metadata": {},
   "outputs": [],
   "source": [
    "lr_confusion_matrix=confusion_matrix(y_test,y_pred)"
   ]
  },
  {
   "cell_type": "code",
   "execution_count": 61,
   "metadata": {},
   "outputs": [
    {
     "name": "stdout",
     "output_type": "stream",
     "text": [
      "[[167  17]\n",
      " [115  47]]\n"
     ]
    }
   ],
   "source": [
    "print(lr_confusion_matrix)"
   ]
  },
  {
   "cell_type": "code",
   "execution_count": 62,
   "metadata": {},
   "outputs": [
    {
     "data": {
      "text/plain": [
       "<AxesSubplot:>"
      ]
     },
     "execution_count": 62,
     "metadata": {},
     "output_type": "execute_result"
    },
    {
     "data": {
      "image/png": "[encoded data removed]",
      "text/plain": [
       "<Figure size 720x720 with 2 Axes>"
      ]
     },
     "metadata": {
      "needs_background": "light"
     },
     "output_type": "display_data"
    }
   ],
   "source": [
    "plt.figure(figsize=(10,10))\n",
    "plt.xlabel('y_test')\n",
    "plt.ylabel('y_pred')\n",
    "sns.heatmap(lr_confusion_matrix,annot=True)"
   ]
  },
  {
   "cell_type": "markdown",
   "metadata": {},
   "source": [
    "# Fitting SVM model"
   ]
  },
  {
   "cell_type": "code",
   "execution_count": 63,
   "metadata": {},
   "outputs": [
    {
     "data": {
      "text/plain": [
       "SVC()"
      ]
     },
     "execution_count": 63,
     "metadata": {},
     "output_type": "execute_result"
    }
   ],
   "source": [
    "sv.fit(x_train,y_train)"
   ]
  },
  {
   "cell_type": "code",
   "execution_count": 64,
   "metadata": {},
   "outputs": [],
   "source": [
    "y_pred_sv=sv.predict(x_test)"
   ]
  },
  {
   "cell_type": "code",
   "execution_count": 65,
   "metadata": {},
   "outputs": [],
   "source": [
    "sv_score=accuracy_score(y_test,y_pred_sv)"
   ]
  },
  {
   "cell_type": "code",
   "execution_count": 66,
   "metadata": {},
   "outputs": [
    {
     "name": "stdout",
     "output_type": "stream",
     "text": [
      "0.6040462427745664\n"
     ]
    }
   ],
   "source": [
    "print(sv_score)"
   ]
  },
  {
   "cell_type": "code",
   "execution_count": 67,
   "metadata": {},
   "outputs": [],
   "source": [
    "sv_confusion_matrix=confusion_matrix(y_test,y_pred_sv)"
   ]
  },
  {
   "cell_type": "code",
   "execution_count": 68,
   "metadata": {},
   "outputs": [
    {
     "name": "stdout",
     "output_type": "stream",
     "text": [
      "[[168  16]\n",
      " [121  41]]\n"
     ]
    }
   ],
   "source": [
    "print(sv_confusion_matrix)"
   ]
  },
  {
   "cell_type": "code",
   "execution_count": 69,
   "metadata": {},
   "outputs": [
    {
     "data": {
      "text/plain": [
       "<AxesSubplot:>"
      ]
     },
     "execution_count": 69,
     "metadata": {},
     "output_type": "execute_result"
    },
    {
     "data": {
      "image/png": "[encoded data removed]",
      "text/plain": [
       "<Figure size 720x720 with 2 Axes>"
      ]
     },
     "metadata": {
      "needs_background": "light"
     },
     "output_type": "display_data"
    }
   ],
   "source": [
    "plt.figure(figsize=(10,10))\n",
    "plt.xlabel('y_test')\n",
    "plt.ylabel('y_pred')\n",
    "sns.heatmap(sv_confusion_matrix,annot=True)"
   ]
  },
  {
   "cell_type": "markdown",
   "metadata": {},
   "source": [
    "# Fitting GuassianNB"
   ]
  },
  {
   "cell_type": "code",
   "execution_count": 70,
   "metadata": {},
   "outputs": [
    {
     "data": {
      "text/plain": [
       "GaussianNB()"
      ]
     },
     "execution_count": 70,
     "metadata": {},
     "output_type": "execute_result"
    }
   ],
   "source": [
    "gb.fit(x_train,y_train)"
   ]
  },
  {
   "cell_type": "code",
   "execution_count": 71,
   "metadata": {},
   "outputs": [],
   "source": [
    "y_pred_gb=gb.predict(x_test)"
   ]
  },
  {
   "cell_type": "code",
   "execution_count": 72,
   "metadata": {},
   "outputs": [],
   "source": [
    "gb_score=accuracy_score(y_test,y_pred_gb)"
   ]
  },
  {
   "cell_type": "code",
   "execution_count": 73,
   "metadata": {},
   "outputs": [
    {
     "name": "stdout",
     "output_type": "stream",
     "text": [
      "0.6213872832369942\n"
     ]
    }
   ],
   "source": [
    "print(gb_score)"
   ]
  },
  {
   "cell_type": "code",
   "execution_count": 74,
   "metadata": {},
   "outputs": [],
   "source": [
    "gb_confusion_matrix=confusion_matrix(y_test,y_pred_gb)"
   ]
  },
  {
   "cell_type": "code",
   "execution_count": 75,
   "metadata": {},
   "outputs": [
    {
     "name": "stdout",
     "output_type": "stream",
     "text": [
      "[[104  80]\n",
      " [ 51 111]]\n"
     ]
    }
   ],
   "source": [
    "print(gb_confusion_matrix)"
   ]
  },
  {
   "cell_type": "code",
   "execution_count": 76,
   "metadata": {},
   "outputs": [
    {
     "data": {
      "text/plain": [
       "<AxesSubplot:>"
      ]
     },
     "execution_count": 76,
     "metadata": {},
     "output_type": "execute_result"
    },
    {
     "data": {
      "image/png": "[encoded data removed]",
      "text/plain": [
       "<Figure size 720x720 with 2 Axes>"
      ]
     },
     "metadata": {
      "needs_background": "light"
     },
     "output_type": "display_data"
    }
   ],
   "source": [
    "plt.figure(figsize=(10,10))\n",
    "plt.xlabel('y_test')\n",
    "plt.ylabel('y_pred')\n",
    "sns.heatmap(gb_confusion_matrix,annot=True)"
   ]
  },
  {
   "cell_type": "markdown",
   "metadata": {},
   "source": [
    "# Fitting MultinomialNb"
   ]
  },
  {
   "cell_type": "code",
   "execution_count": 77,
   "metadata": {},
   "outputs": [
    {
     "data": {
      "text/plain": [
       "MultinomialNB()"
      ]
     },
     "execution_count": 77,
     "metadata": {},
     "output_type": "execute_result"
    }
   ],
   "source": [
    "mb.fit(x_train,y_train)"
   ]
  },
  {
   "cell_type": "code",
   "execution_count": 78,
   "metadata": {},
   "outputs": [],
   "source": [
    "y_pred_mb=mb.predict(x_test)"
   ]
  },
  {
   "cell_type": "code",
   "execution_count": 79,
   "metadata": {},
   "outputs": [],
   "source": [
    "mb_score=accuracy_score(y_test,y_pred_mb)"
   ]
  },
  {
   "cell_type": "code",
   "execution_count": 80,
   "metadata": {},
   "outputs": [
    {
     "name": "stdout",
     "output_type": "stream",
     "text": [
      "0.6271676300578035\n"
     ]
    }
   ],
   "source": [
    "print(mb_score)"
   ]
  },
  {
   "cell_type": "code",
   "execution_count": 81,
   "metadata": {},
   "outputs": [],
   "source": [
    "mb_confusion_matrix=confusion_matrix(y_test,y_pred_mb)"
   ]
  },
  {
   "cell_type": "code",
   "execution_count": 82,
   "metadata": {},
   "outputs": [
    {
     "name": "stdout",
     "output_type": "stream",
     "text": [
      "0.6271676300578035\n"
     ]
    }
   ],
   "source": [
    "print(mb_score)"
   ]
  },
  {
   "cell_type": "code",
   "execution_count": 83,
   "metadata": {},
   "outputs": [
    {
     "data": {
      "text/plain": [
       "<AxesSubplot:>"
      ]
     },
     "execution_count": 83,
     "metadata": {},
     "output_type": "execute_result"
    },
    {
     "data": {
      "image/png": "[encoded data removed]",
      "text/plain": [
       "<Figure size 720x720 with 2 Axes>"
      ]
     },
     "metadata": {
      "needs_background": "light"
     },
     "output_type": "display_data"
    }
   ],
   "source": [
    "plt.figure(figsize=(10,10))\n",
    "plt.xlabel('y_test')\n",
    "plt.ylabel('y_pred')\n",
    "sns.heatmap(mb_confusion_matrix,annot=True)"
   ]
  },
  {
   "cell_type": "code",
   "execution_count": null,
   "metadata": {},
   "outputs": [],
   "source": []
  },
  {
   "cell_type": "code",
   "execution_count": null,
   "metadata": {},
   "outputs": [],
   "source": []
  }
 ],
 "metadata": {
  "kernelspec": {
   "display_name": "Python 3",
   "language": "python",
   "name": "python3"
  },
  "language_info": {
   "codemirror_mode": {
    "name": "ipython",
    "version": 3
   },
   "file_extension": ".py",
   "mimetype": "text/x-python",
   "name": "python",
   "nbconvert_exporter": "python",
   "pygments_lexer": "ipython3",
   "version": "3.8.3"
  }
 },
 "nbformat": 4,
 "nbformat_minor": 4
}
