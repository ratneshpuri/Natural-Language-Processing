{
 "cells": [
  {
   "cell_type": "code",
   "execution_count": 1,
   "metadata": {},
   "outputs": [],
   "source": [
    "import numpy as np\n",
    "import pandas as pd\n",
    "import nltk\n",
    "import re\n",
    "from nltk.stem import WordNetLemmatizer\n",
    "from nltk.corpus import stopwords"
   ]
  },
  {
   "cell_type": "code",
   "execution_count": 5,
   "metadata": {},
   "outputs": [],
   "source": [
    "data=pd.read_csv('SMS.csv',encoding='unicode_escape')"
   ]
  },
  {
   "cell_type": "code",
   "execution_count": 6,
   "metadata": {},
   "outputs": [
    {
     "data": {
      "text/html": [
       "<div>\n",
       "<style scoped>\n",
       "    .dataframe tbody tr th:only-of-type {\n",
       "        vertical-align: middle;\n",
       "    }\n",
       "\n",
       "    .dataframe tbody tr th {\n",
       "        vertical-align: top;\n",
       "    }\n",
       "\n",
       "    .dataframe thead th {\n",
       "        text-align: right;\n",
       "    }\n",
       "</style>\n",
       "<table border=\"1\" class=\"dataframe\">\n",
       "  <thead>\n",
       "    <tr style=\"text-align: right;\">\n",
       "      <th></th>\n",
       "      <th>S. No.</th>\n",
       "      <th>Message_body</th>\n",
       "      <th>Label</th>\n",
       "    </tr>\n",
       "  </thead>\n",
       "  <tbody>\n",
       "    <tr>\n",
       "      <th>0</th>\n",
       "      <td>1</td>\n",
       "      <td>Rofl. Its true to its name</td>\n",
       "      <td>Non-Spam</td>\n",
       "    </tr>\n",
       "    <tr>\n",
       "      <th>1</th>\n",
       "      <td>2</td>\n",
       "      <td>The guy did some bitching but I acted like i'd...</td>\n",
       "      <td>Non-Spam</td>\n",
       "    </tr>\n",
       "    <tr>\n",
       "      <th>2</th>\n",
       "      <td>3</td>\n",
       "      <td>Pity, * was in mood for that. So...any other s...</td>\n",
       "      <td>Non-Spam</td>\n",
       "    </tr>\n",
       "    <tr>\n",
       "      <th>3</th>\n",
       "      <td>4</td>\n",
       "      <td>Will ü b going to esplanade fr home?</td>\n",
       "      <td>Non-Spam</td>\n",
       "    </tr>\n",
       "    <tr>\n",
       "      <th>4</th>\n",
       "      <td>5</td>\n",
       "      <td>This is the 2nd time we have tried 2 contact u...</td>\n",
       "      <td>Spam</td>\n",
       "    </tr>\n",
       "  </tbody>\n",
       "</table>\n",
       "</div>"
      ],
      "text/plain": [
       "   S. No.                                       Message_body     Label\n",
       "0       1                         Rofl. Its true to its name  Non-Spam\n",
       "1       2  The guy did some bitching but I acted like i'd...  Non-Spam\n",
       "2       3  Pity, * was in mood for that. So...any other s...  Non-Spam\n",
       "3       4               Will ü b going to esplanade fr home?  Non-Spam\n",
       "4       5  This is the 2nd time we have tried 2 contact u...      Spam"
      ]
     },
     "execution_count": 6,
     "metadata": {},
     "output_type": "execute_result"
    }
   ],
   "source": [
    "data.head()"
   ]
  },
  {
   "cell_type": "code",
   "execution_count": 7,
   "metadata": {},
   "outputs": [],
   "source": [
    "data=data.drop(['S. No.'],axis=1)"
   ]
  },
  {
   "cell_type": "code",
   "execution_count": 8,
   "metadata": {},
   "outputs": [
    {
     "data": {
      "text/plain": [
       "Index(['Message_body', 'Label'], dtype='object')"
      ]
     },
     "execution_count": 8,
     "metadata": {},
     "output_type": "execute_result"
    }
   ],
   "source": [
    "data.columns"
   ]
  },
  {
   "cell_type": "code",
   "execution_count": 9,
   "metadata": {},
   "outputs": [],
   "source": [
    "lm=WordNetLemmatizer()\n",
    "corpus=[]"
   ]
  },
  {
   "cell_type": "code",
   "execution_count": 10,
   "metadata": {},
   "outputs": [],
   "source": [
    "for i in range(len(data)):\n",
    "    review=re.sub('[^a-zA-Z]',' ',data['Message_body'][i])\n",
    "    review=review.lower()\n",
    "    review=review.split()\n",
    "    review=[lm.lemmatize(word) for word in review if not word in set(stopwords.words('english'))]\n",
    "    review=' '.join(review)\n",
    "    corpus.append(review)"
   ]
  },
  {
   "cell_type": "code",
   "execution_count": 13,
   "metadata": {},
   "outputs": [
    {
     "name": "stdout",
     "output_type": "stream",
     "text": [
      "['rofl true name', 'guy bitching acted like interested buying something else next week gave u free', 'pity mood suggestion', 'b going esplanade fr home', 'nd time tried contact u u pound prize claim easy call p per minute bt national rate', 'reminder get pound free call credit detail great offer pls reply text valid name house postcode', 'huh lei', 'wait til least wednesday see get', 'ard like dat lor', 'ok lor sony ericsson salesman ask shuhui say quite gd use considering', 'get dump heap mom decided come lowes boring', 'anything lor juz u lor', 'next lt gt hour imma flip shit', 'sorry call later', 'meant calculation lt gt unit lt gt school really expensive started practicing accent important decided year dental school nmde exam', 'yes u texted pshew missing much', 'yeh indian nice tho kane bit shud go drink sometime soon mite hav go da work laugh soon love pete x x', 'well keep mind got enough gas one round trip barring sudden influx cash', 'hahaha use brain dear', 'safe trip nigeria wish happiness soon company share moment', 'wen get spiritual deep great', 'cool time think get', 'know wot people wear shirt jumper hat belt know r cribbs', 'trying weekend v', 'ic lotta childporn car', 'hi durban still number', 'taking derek amp taylor walmart back time done leave mouse desk text priscilla ready', 'u still havent got urself jacket ah', 'armand say get as epsilon', 'yeah jus rite', 'asked mobile chatlines inclu free min india cust servs sed yes l er got mega bill dont giv shit bailiff due day want', 'sleeping surfing', 'believe attached seeing every day know best get babe go teach class midnight', 'want explicit sex sec ring cost p min gsex pobox wc n xx', 'aiyah ok wat long got improve already wat', 'know thinkin malaria relax child cant handle malaria would worse gastroenteritis take enough replace loss temp reduce give malaria med vomit self limiting illness mean day completely stop', 'ok another number', 'hey chief give bell get need talk royal visit st june', 'happened adventuring', 'compliment away system side', 'think tantrum finished yeah point', 'one', 'effect irritation ignore', 'total disappointment texted craziest shit got', 'private account statement show un redeemed point call identifier code expires', 'want tell bad feel basically time text lately need drug', 'awarded sipix digital camera call landline delivery within day c box bp yr warranty ppm p p', 'going join tomorrow', 'thats cool want please', 'big chic common declare', 'dont want hear anything', 'pls send company name saibaba colany', 'way put skip right outside front house see house pull', 'mile smile r made frm letter u know difference smile ur face keep happy even though mile away u keep smiling good nyt', 'ya referin mei ex wat ah waitin u treat somebody shld b rich liao gd den u dun work frm tmr onwards', 'great role model giving much really wish day miracle god reason everything must say wish knew dont looked since young still great day', 'oh okie lor go sat', 'yes please leave lt gt lt gt leave', 'making dinner', 'reassuring crazy world', 'went project centre', 'lol mad first woke gave', 'machan go gym tomorrow wil come late goodnight', 'want inside every night', 'god love limit god grace measure god power boundary may u god endless blessing always ur life gud ni', 'told tell stupid hear wont tell anything dad called brother spoken', 'wait msg lt gt min', 'perhaps much easy give account identification tomorrow uni', 'apo mokka player', 'private account statement show un redeemed point call identifier code expires', 'love one law make happy person love way friendship one law never make ur friend feel alone alive gud night', 'get step outta way congrats', 'wake gt', 'sm service inclusive text credit pls goto www comuk net login qxj unsubscribe stop extra charge help comuk cm ae', 'yes trust u buy new stuff asap try', 'good afternoon love go day sleep hope well boytoy think', 'cool shall go see go tip anyway home got something drop later let go town tonight maybe mum take u', 'think rule tamilnadu tough people', 'marvel mobile play official ultimate spider man game ur mobile right text spider game send u free ball wallpaper', 'u studying sch going home anyway b going sch later', 'k sent', 'oh thanks lot already bought egg', 'k sent', 'p per min call germany bt line p per min check planettalkinstant com info c text stop opt', 'ofcourse also upload song', 'also fuck family going rhode island wherever fuck leaving alone week new bong gt', 'picking various point going yeovil motor project hour u take home max easy', 'li hai bored da lecturer repeating last week stuff waste time', 'urgent trying contact last weekend draw show u prize guaranteed call claim code k valid hr p pm', 'shall call dear food', 'seen back holby', 'really hope work doesnt get stressful gr day', 'probably lt gt', 'today sunday sunday holiday work', 'yes princess want please every night wish command', 'dhoni luck win big title win', 'mummy boy good bad positive negative mummy made wait hmmmm', 'ok lor reaching message', 'well obviously people cool college life went home', 'yup', 'thought slide enough', 'ok lor', 'urgent last weekend draw show cash spanish holiday call claim c rstm sw s ppm', 'get garden ready summer free selection summer bulb seed worth scotsman saturday stop go notxt co uk', 'http tm widelive com index wml id ad first true c c ringtone', 'shall bring u bottle wine keep u amused joking bring one anyway', 'treasure every moment spend together', 'u goin nite', 'txt call claim reward hour talk time use phone subscribe gbp mnth inc hr stop txtstop www gamb tv', 'ok thk got u wan come wat', 'december mobile mths entitled update latest colour camera mobile free call mobile update co free', 'hear loud scream lt gt minute cause gyno shoving thing belong', 'sorry call later', 'arun u transfr amt', 'sparkling shopping break per person call visit www shortbreaks org uk', 'wishing beautiful day moment revealing even thing keep smiling enjoy', 'im wondering right', 'except there chick huge boob', 'hello wats talk email address', 'sing hu think also important find someone female know place well preferably citizen also smart help navigate even thing like choosing phone plan require guidance doubt ask especially girl', 'sac need carry', 'latest news police station toilet stolen cop nothing go', 'aight pick open tonight', 'take away money worry', 'back good journey let know need receipt shall tell like pendent', 'fine got enough bud last night least', 'good morning repair shop reason hour', 'guaranteed award maybe even cash claim ur award call free legitimat efreefone number wat u think', 'thought get watch co thats kind thing u get th love much', 'way make sure u get train worc foregate street shrub hill fun night x', 'thank generally date brothas', 'hey booked lesson sun liao', 'youdoing later sar xxx', 'slow using biola fne', 'mode men left', 'wif buying tix lar', 'jesus armand really trying tell everybody find', 'gonna way specific', 'thanx lot ur help', 'paying attention', 'make time tonight whenever cool text whenever around', 'er yeah b sorry tell pub cafe sit come wen u', 'didnt complete gist oh', 'santa calling would little one like call santa xmas eve call book time', 'oh yeah diet flew window', 'otherwise part time job na tuition', 'u horrible gal u knew dat going wif yest n u still come n ask', 'sorry call later', 'ok k sry knw siva tat askd', 'hi elaine today meeting confirmed', 'dont know oh hopefully month', 'bruce amp fowler mom car park long story', 'really master', 'nope forgot show next week', 'slave want take picture today bright light cell phone bright light', 'get chicken broth want ramen unless know', 'east coast', 'nite nite pocay wocay luv u n e thing eva promise ring u morrowxxxx', 'gr handle victoria island traffic plus album due', 'ask u meeting da ge tmr nite', 'daddy shu shu looking u u wan tell u singapore wat', 'first time everything', 'pub', 'yup msg tat yijue tot group mate co meeting today mah askin leaving earlier wat mah co mayb haf walk v far', 'dear angry busy dear', 'many day since', 'pls give prometazine syrup ml lt gt min later feed', 'gd got free ice cream oso wan', 'hi babe thanks coming even though didnt go well wanted bed hope see soon love kiss xxx', 'babe think got ur brolly left english wil bring mrw u luv franxx', 'hard true much show amp express love someone much hurt leave get seperated ud evening', 'apparently bffs carly quick', 'hi hope good day better night', 'necessarily respectful', 'want custom officer discount oh', 'dunno lei shd b driving lor co go sch hr oni', 'dont know exactly could ask chechi', 'done handed know mega shop asda count celebration thats', 'ooooooh forgot tell u get yoville phone', 'watching ajith film ah', 'nt joking seriously told', 'ok ok ok whats ur today plan', 'much fight good nite', 'gentle baby soon taking lt gt inch deep inside tight pussy', 'work please call', 'friend help u problem give stupid suggestion land u another problem help u forgt previous problem', 'babe hope ok shit night sleep fell asleep knackered dreading work tonight thou upto tonight x', 'good day pray remove teeth painful maintaining stuff', 'make squeezed lt gt buck dad', 'new message call', 'sunny california weather cool', 'somebody set website play hold em using eve online spacebucks', 'free entry gr prize wkly comp chance win latest nokia psp cash every wk txt great http www gr prize com', 'current leading bid pause auction send customer care', 'want leave barely stay sane fighting constantly helping', 'cant pick phone right pls send message', 'u konw waht rael friendship im gving yuo exmpel jsut ese tihs msg evrey splleing tihs msg wrnog bt sitll yuo raed wihtuot ayn mitsake goodnight amp nice sleep sweet dream', 'k head min see', 'ok problem u frm wats matter', 'lol oh got friend dog', 'dating two started sent text talk sport radio last week connection think coincidence', 'hi mom might back later lt gt', 'important message final contact attempt important message waiting customer claim dept expires call', 'trying figure suppose see couple different people week said get together set date', 'xmas reward waiting computer randomly picked loyal mobile customer receive reward call', 'call send girl erotic ecstacy p min stop text call nat rate', 'think mentor percent sure', 'inside office still filling form know leave', 'yep get program slacking', 'hey iouri gave number wylie ryan friend', 'ur face test lt gt select number tell ur face astrology waiting quick reply', 'hmm shall bring bottle wine keep u amused joking still bring bottle red white see tomorrow', 'ok', 'tell something thats okay', 'living simple loving also simple laughing simple winning tooo simple simple difficult', 'aiyo co sm neva reply wait reply lar tot havent finish ur lab wat', 'guai shd haf seen naughty free today go jogging', 'good morning princess great day', 'yup paragon havent decided whether cut yet hee', 'one interested may business plan', 'home', 'thought put back box', 'sir hr trip bus last week another audition next wednesday think might drive time', 'parent kidz friend n colleague screaming surprise waiting sofa naked', 'wat', 'guy planning coming', 'go opening room til thanksgiving without upcharge', 'u r subscribed textcomp wkly comp st wk free question follows subsequent wks charged p msg unsubscribe txt stop custcare', 'course make stink', 'u awake snow', 'like jerk', 'wanna gym', 'birthday feb lt gt da', 'sound better evening im costume im sure time finish tomorrow txt end', 'pride almost lt gt year old takin money kid supposed deal stuff grownup stuff tell', 'garbage bag egg jam bread hannaford wheat chex', 'neither sterm voice studying fine sure thing resolved tho anyway fab hols', 'think steyn surely get one wicket', 'x course yr message messenger lik r sending', 'dude im longer pisces im aquarius', 'sir waiting letter', 'sweet heart', 'wishing wonderful week', 'make happy', 'gal n boy walking park gal hold ur hand boy u think would run away gal jst wana c feel walking heaven prince gn', 'dear sir salam alaikkum pride pleasure meeting today tea shop pleased send contact number qatar rakhesh indian pls save number respectful regard', 'aah bless arm', 'thanks keep mind', 'ok problem yup going sch rem correctly', 'havent got da topic yet rite', 'kothi print marandratha', 'good morning love go sleep wish great day full feeling better opportunity last thought babe love kiss', 'k fyi back parent place south tampa might need deal somewhere else', 'jus finish watching tv u', 'hahaha use brain dear', 'get official england poly ringtone colour flag yer mobile tonight game text tone flag optout txt eng stop box w wx', 'sister going earn da', 'got ur favorite oyster n got favorite sashimi ok lar dun say already wait ur stomach start rumbling', 'k k going tirunelvali week see uncle already spend amount taking dress want money give feb', 'yeah thinking', 'jolly good way give u ticket sat eve speak x', 'coming back thursday yay gonna ok get money cheer oh yeah everything alright hows school call work', 'leave', 'ill min look', 'hi missed call mumhas beendropping red wine theplace adress', 'pls ask macho much budget bb bold co saw new one lt gt dollar', 'tell quite long co finish film yet', 'lt gt buck bank fee fixed better call bank find', 'time come tomorrow', 'make tonight', 'well good morning mr hows london treatin ya treacle', 'hand phone chat wit u', 'darling sister school resuming minimum wait period reapply take care', 'u coming funeral home', 'alex say ok ok', 'xmas iscoming ur awarded either cd gift voucher free entry r weekly draw txt music tnc www ldew com win ppmx age subscription', 'donno gene something', 'urgent please call landline cash luxury canary island holiday await collection c sae po box xy ppm', 'xy trying smth u eat already havent', 'dear call', 'hey congrats u id luv ive go home', 'excellent thought misundrstud frnd knw u hate bt day wen u knw truth u hate urself gn', 'hey forget mine possession property mmm childish smile', 'still pretty weak today bad day', 'urgent week free membership prize jackpot txt word claim c www dbuk net lccltd pobox ldnw rw', 'sent ur email id soon', 'yeah probably', 'gone get info bt dont know', 'princess', 'vikky come around lt time gt', 'helloooo wake sweet morning welcome enjoy day full joy gud mrng', 'urgent mobile number awarded prize guaranteed call land line claim valid hr ppm', 'best msg hard person u know one step foward make u fall love amp one step back ruin ur friendship good night', 'dunno leh cant remember mayb lor wat time r meeting tmr', 'oh yeah clearly fault', 'hi hope ur day good back walk table booked half eight let know ur coming', 'late k wish', 'hello u u u b moving flat co need arrange pick lamp etc take care hello caroline', 'u wan come dinner tonight', 'u fix teeth asap ok take care', 'prize go another customer c www c biz p min polo ltd suite london w j hl please call back busy', 'er enjoyin indian mo yep sall good hehe hows bout u shexy pete xx', 'anything lar going home dinner', 'hi darlin kate u doin somethin tonight im going pub called swan something parent one drink phone u', 'gud ni swt drms take care', 'storming msg wen u lift phne u say hello u knw wt real meaning hello name girl yes u knw dat girl margaret hello girlfrnd f grahmbell invnted telphone moral one get name person bt girlfrnd g n g h', 'pls speak wont ask anything friendship', 'see film', 'absolutely love south park recently started watching office', 'anyone call treadmill say buy make sure working found ad craigslist selling lt gt', 'help u swoop picking u wherever ur bird r meeting u want', 'cbe chennai', 'usual iam fine happy amp well', 'well big surprise', 'ok sweet dream', 'didnt get anything da', 'please tell car key purse', 'study alone without anyones help cant need study', 'yeah work fine started last week stuff dull easy guy fun', 'urgent please call landline cash holiday await collection c sae po box xy', 'k leaving soon little', 'u come n search tat vid finishd', 'gud ni dear slp well take care swt dream muah', 'eaten day sitting staring juicy pizza eat med ruining life', 'thank princess want see nice juicy booty', 'thanks temales wonderful thank great week', 'course tease know simply must see grin keep posted prey loving smile devouring kiss', 'hmm thinking lor', 'part checking iq', 'gud gud k chikku tke care sleep well gud nyt', 'jay want work first sound', 'yeah still give ride', 'someonone know trying contact via dating service find could call mobile landline box sk ch', 'uworld site buying qbank buying self assessment also', 'ok cool see ya', 'hey project started aha da', 'chosen receive award pls call claim number collect award selected receive valued mobile customer', 'realise busy guy trying bother get exam outta way try car gr day', 'nope still market', 'mean u could keep ur word', 'private account statement fone show un redeemed point call identifier code expires', 'met alex nichols middle school turn dealing', 'prabha soryda realy frm heart sory', 'smile pleasure smile pain smile trouble pours like rain smile sum hurt u smile becoz someone still love see u smiling', 'oh fuck juswoke bed boatin dock slept wid year old spinout giv u da gossip l r xxx', 'die want u stuff', 'night nt staying port step liao ex', 'jane babe goin wrk feel ill lst nite foned already cover chuck', 'take exam march', 'pls need dat slowly vomit', 'accidentally brought em home box', 'well thats nice bad cant eat', 'late', 'keep ten r shelf buy two egg', 'natalja f inviting friend reply yes see www sm ac u nat stop send stop frnd', 'pa selected', 'k k business', 'yesterday true true', 'dai downloaded exe file run exe installing', 'know thinkin malaria relax child cant handle malaria would worse gastroenteritis take enough replace loss temp reduce give malaria med vomit self limiting illness mean day completely stop', 'hi think match', 'babe answering see maybe better reboot ym got photo great', 'reach ur home lt gt minute', 'mobile mths update free orange latest colour camera mobile unlimited weekend call call mobile upd freefone stoptxt', 'come get b quite diff guess rite', 'fine absolutly fine', 'wot student discount u get book', 'costa del sol holiday await collection call toclaim sae tc pobox stockport sk xh cost pm max min', 'call germany penny per minute call fixed line via access number prepayment direct access www telediscount co uk', 'ugh leg hurt musta overdid mon', 'fine difficulty phone work mine pls send another friend request', 'like cheap happy splash wine make feel better', 'spook mob halloween collection logo pic message plus free eerie tone txt card spook zed p per logo pic', 'darren saying dat u meeting da ge den dun meet dinner co later u leave xy feel awkward den u meet lunch lor', 'ok take ur time n enjoy ur dinner', 'wylie tampa sarasota', 'oh oh den muz change plan liao go back yan jiu', 'sorry call later', 'record indicate u maybe entitled pound compensation accident claim free reply claim msg stop txt stop', 'ree entry weekly comp chance win ipod txt pod get entry std txt rate c apply detail', 'okie', 'time u wrkin', 'uploaded mine facebook', 'cooked rather nice salmon la', 'town jus take mrt later', 'fuuuuck need stop sleepin sup', 'sent like', 'k sure relative home sm de pls', 'babe fucking love know fuck good hear voice need crave get enough adore ahmad kiss', 'hi hope u r ok said would text u seen let gently please', 'sm auction brand new nokia auction today auction free join take part txt nokia', 'strange watching nd one bed sweet dream miss u', 'company good environment terrific food really nice', 'raji pls favour pls convey birthday wish nimya pls today birthday', 'water logging desert geoenvironmental implication', 'u', 'aight text tonight see', 'oh k come tomorrow', 'school n da lab stuff give call r done', 'going lunch', 'got salt rub open wound like', 'oh charge camera', 'dun believe leh tot told true already thk muz c u tog believe', 'still got lesson sch', 'congrats mobile g videophones r call videochat wid ur mate play java game dload polyph music noline rentl bx ip p', 'ok leave need ask', 'send text skype later', 'lol need cash nitros hurry come crash', 'ok r meeting later', 'bluray player', 'come karnan car please wait till pm directly goto doctor', 'k k sm chat', 'sir need velusamy sir date birth company bank facility detail', 'new year eve ok went party boyfriend si hey', 'like lt gt question', 'left yet probably gonna til dinner', 'idk sitting stop shop parking lot right bawling eye feel like failure everything nobody want feel like failing', 'problem renewal right away dont know detail', 'happy new year u ur family may new year bring happiness stability tranquility ur vibrant colourful life', 'pls call da happen', 'k come wenever u lik come also tel vikky come getting free time', 'get garden ready summer free selection summer bulb seed worth scotsman saturday stop go notxt co uk', 'oh unintentionally bad timing great finger train play along give fifteen min warning', 'aiyar u poor thing give u support k jia think u', 'office da', 'hi darlin im helen fone im gonna b prince nite please come tb love kate', 'started dont stop pray good idea anything see help guy forward link', 'free st week nokia tone ur mobile every week txt nokia get txting tell ur mate www getzed co uk pobox w wq norm p tone', 'yeah imagine would really gentle unlike doc treat patient like turkey', 'oh shut omg yesterday dream kid boy pissed kid boy even told mark dream changing diaper cause getting owed face', 'yup havent want go yoga call book', 'costa del sol holiday await collection call toclaim sae tc pobox stockport sk xh cost pm max min', 'nice pub near frankie n benny near warner cinema', 'sorry grocer', 'sday joined training started today', 'hmm dunno leh mayb bag goigng dat small jus anything except perfume smth dat keep', 'still working time also tried adding zero saving checking lt gt', 'suck go u hair free right', 'way', 'rose red red blood blood heart heart u u send ti ur friend including u like u get back u r poor relation u need support u r frnd many luvs u praying god marry u try', 'wot wed nite til', 'cuz ibored wanna study', 'wonderful okors great month cherish guy wish well day mojibiola', 'work ah den plus lor u workin oso rite den go orchard lor place go liao', 'impossible argue always treat like sub like never released remind necessary', 'hi chikku send nice msg', 'enufcredeit tocall shall ileave uni get bus yor house', 'oops lt gt', 'private account statement', 'lol real told dad cancer', 'driving training', 'aslamalaikkum insha allah tohar beeen muht albi mufti mahfuuz meaning', 'thanks fill complete calm reassurance', 'get lion england tone reply lionm mono lionp poly go www ringtones co uk original n best tone gbp network operator rate apply', 'argh fuck nobody town', 'u definitely need module e humanity dis sem izzit u wan take module st', 'december mobile mths entitled update latest colour camera mobile free call mobile update vco free', 'reached sch already', 'new message please call', 'oh got many responsibility', 'sign maturity start saying big thing actually start understanding small thing nice evening bslvyl', 'really need kiss u miss u baby ur baby eva', 'ding ya break fassyole blacko londn', 'wnt buy bmw car urgently vry urgent hv shortage lt gt lac source arng dis amt lt gt lac thats prob', 'boy loved gal propsd bt didnt mind gv lv lttrs bt frnds threw thm boy decided aproach gal dt time truck speeding towards gal wn hit girl boy ran like hell n saved asked hw cn u run fast boy replied boost secret energy n instantly girl shouted energy n thy lived happily gthr drinking boost evrydy moral story hv free msg gud ni', 'news hassling get weed week andres money haughaighgtujhyguj', 'msg mobile content order resent previous attempt failed due network error query customersqueries netvision uk com', 'nope thats fine might nap tho', 'aight call close', 'ah well confuses thing doesnt thought friend maybe wrong thing already sort invited tho may come co money', 'themob hit link get premium pink panther game new sugababes crazy zebra animation badass hoody wallpaper free', 'sorry mate phone didnt write love kate', 'really really broke oh amount small even lt gt', 'k k month kotees birthday know', 'hi shanil rakhesh thanks exchanged uncut diamond stuff leaving back excellent service dino prem', 'gokila talking aha', 'fri ah okie lor goin drivin den go shoppin tt', 'check room befor activity', 'st andre virgil cream', 'type stuff sing', 'wont anything de', 'good morning im suffering fever dysentry able come office today', 'omg one thing another cat worm bad day end', 'sorry missed call please call back', 'hey happy birthday', 'aiya discus later lar pick', 'amazing rearrange letter give meaning dormitory dirty room astronomer moon starer eye see election result lie let recount mother law woman hitler eleven plus two twelve plus one amazing', 'keep ur problem ur heart b coz nobody fight u u amp u fight ur self amp win battle vivekanand g sd ham yeah give call got minute ham hi babe uawake feellikw shit justfound via aletter thatmum gotmarried thnov behind ourbacks fuckinnice selfish deviousbitch anyway l call u', 'mark work tomorrow get work house meet u afterwards', 'want new nokia colour phone deliveredtomorrow free minute mobile free text free camcorder reply call', 'guy flash go call call madam take care oh', 'well glad find totally disagreeable lol', 'nd attempt contract u week top prize either cash prize call', 'want sent lt gt mesages today thats sorry hurt', 'gud ni dear slp well take care swt dream muah', 'win shopping spree every week starting play text store skilgme tscs winawk age perweeksub', 'different style', 'p alfie moon child need song ur mob tell ur txt tone charity nokias poly charity polys zed profit charity', 'hai dear friend new amp present number rajitha raj ranju', 'talk g x', 'uk break accommodationvouchers term condition apply claim mustprovide claim number', 'call later afternoon onwords mtnl service get problem south mumbai hear cann listen', 'brother transfered lt gt lt gt pa', 'dunno lei like dun haf', 'ok also wan watch e pm show', 'havent stuck orchard dad car going dinner u leh r free tonight', 'sorry call later meeting sir', 'think disturbing da', 'free video camera phone half price line rental mths cross ntwk min txts call mobileupd call optout', 'geeeee internet really bad today eh', 'hey next sun basic yoga course bugis go pilate intro next sat tell time r free', 'goodnight da thangam really miss u dear', 'train back northampton afraid staying skyving today ho ho around wednesday though fancy comedy club week way', 'double min double txt price linerental latest orange bluetooth mobile call mobileupd latest offer call optout lf', 'lmao know well', 'tick tick tick could die loneliness know pout stomp foot need', 'si lor juz watched italian job', 'vote wherever heart guide', 'yeah basically time next week get away mom amp get', 'hmmm still dont opener', 'desire u going doctor liver get bit stylish get ur hair managed thats', 'sent jd customer service cum account executive ur mail id detail contact u', 'dunno dad said coming home bring u lunch yup go w u lor call u reach school lor', 'ic lol play door sometime yo', 'jamster get free wallpaper text heart c apply need help call', 'ran younger man make pretty baby together', 'natalie f inviting friend reply yes see www sm ac u natalie k stop send stop frnd', 'pls clarify back open return ticket preponed go back kerala', 'thanks talk saturday dear cherish brother role model', 'hear', 'believe true incredible txts reply g learn truly amazing thing blow mind fwd p txt', 'many time told stage use laugh listen aha', 'want go perumbavoor', 'really good see day dudette missing', 'ok vl u know got adsense approved', 'hey inconvenient si huh', 'coming friday leave pongal get news work place', 'like tell deepest darkest fantasy call p min stop text call nat rate', 'go chase run crossing street', 'private account statement show un redeemed point call identifier code xx expires', 'ur cash balance currently pound maximize ur cash send go p meg cc hg suite land row w j hl', 'gonna ask lol think', 'happen', 'anyway holla whenever around need excuse go creep people sarasota', 'yes possible dint try pls dont tell one k', 'sad puppy noise', 'cool last little getting time soon', 'great office today', 'babe talking think good boy missing love', 'dear xxxxxxx u invited xchat final attempt contact u txt chat p msgrcvdhg suite land row w j hl ldn yr', 'hey gal u wanna meet dinner n te', 'think two still need get cash def ready', 'hello boytoy geeee missing today like send tm remind thinking loved loving kiss', 'uncle g checking rewarding month', 'u attend ur driving lesson many time wk n day', 'guaranteed cash prize claim yr prize call customer service representative pm cost p', 'way rencontre meet mountain dont', 'mobile number pls sm ur mail id convey regard achan amma rakhesh qatar', 'go fool dont cheat others ok', 'oh k come tomorrow', 'ill b soon', 'guess pub im im happy pig clover whatever saying', 'someone year lt gt toyota camry like mr olayiwola mileage lt gt k clean need know much sell raise dough soon landing sell holla back', 'cd u congratulation ur awarded cd gift voucher gift guaranteed freeentry wkly draw xt music tncs www ldew com win ppmx age', 'still around looking pick later', 'nope since ayo travelled forgotten guy', 'well like actually called someone punto woulda worse', 'hmph go head big baller', 'talk', 'esplanade lor else', 'happy new year hope good semester', 'looked addie go back monday suck', 'drive read need write', 'hey kate hope ur ok give u buz wedlunch go outsomewhere adrink town cud go watershd bit ppl fromwrk bthere love petexxx', 'hungry buy smth home', 'made eta taunton planned hope still okday good see xx', 'phony award today voda number ending xxxx selected receive award match please call quoting claim code standard rate app', 'telling coulda real valentine u never pick nothing', 'channel', 'rushing working school rush go hungry', 'u haf keep busy', 'dont let studying stress l r', 'goldviking inviting friend reply yes see www sm ac u goldviking stop send stop frnd', 'networking job', 'slept thinkthis time lt gt pm dangerous', 'said okay sorry', 'u today', 'spending new year brother family let plan meet next week ready spoiled', 'jade paul u txt u remember barmed want talk u txt', 'boy late home father power frndship', 'gorgeous keep pix cumming thank', 'yar tot u knew dis would happen long ago already', 'aiyo u poor thing u dun wan eat u bathe already', 'oops shower u called hey parking garage collapsed university hospital see crazy stuff like happen', 'fine hope good take care', 'hey come online use msn', 'supposed meet discus abt trip thought xuhui told afternoon thought go lesson', 'cme want go ho morow wil cme got dear didnt say time', 'future planned tomorrow result today best present enjoy future', 'donate unicef asian tsunami disaster support fund texting donate added next bill', 'urgent trying contact u today draw show prize guaranteed call land line claim valid hr', 'people game mall iouri kaila', 'dear voucher holder next meal u use following link pc enjoy dining experiencehttp www vouch com etlp dining asp', 'want see pretty pussy', 'yup ok', 'bit ur smile hppnss drop ur tear sorrow part ur heart life heart like mine wil care u forevr goodfriend', 'want lt gt r da', 'mean left early check co working', 'u call lunch', 'vivek got call number', 'ahhhh woken bad dream u tho dont like u right didnt know anything comedy night guess im', 'master buy bb co sale bf', 'u coming back dinner rite dad ask confirm wif u', 'lost pound since doc visit last week woot woot gonna celebrate stuffing face', 'welcome select service added benefit call specially trained advisor free mobile dialling', 'hi baby im sat bloody bus mo wont home wanna somethin later call later ortxt back jess xx', 'hi probably much fun get message thought id txt u co im bored james farting night', 'bus way calicut', 'hi amy sending free phone number couple day give access adult party', 'great news call freefone claim guaranteed cash gift speak live operator', 'already back home probably', 'anyway think secure anything lemme know want drive south chill', 'wrong phone phone answer one assume people well', 'check mail mailed varma kept copy regarding membership take care insha allah', 'eatin lor goin back work soon e mountain deer show huh watch b liao nice', 'omg make wedding chapel frontierville get good stuff', 'go home liao ask dad pick', 'tomarrow want got court lt decimal gt come bus stand', 'cancelled yeah baby well sound important understand darlin give ring later fone love kate x', 'g want know fuck', 'k k congratulation', 'hey babe going ever figure going new year', 'hey want anything buy', 'free call sir', 'match started india lt gt', 'good morning boytoy yummy lip sexy bun think crave need', 'hi sexychat girl waiting text text great night chatting send stop stop service', 'got take take part wrc rally oz u lucozade energy text rally le p see pack lucozade co uk wrc itcould u', 'hopeing pissed remember gone sister something', 'wanna art', 'oh yes like torture watching england', 'ok let u noe leave house', 'go e normal pilate intro', 'oh yah never cancel leh haha', 'hi dear call urgnt know whats problem want work problem least tell wating reply', 'common hearin r u wat r u ur day let ask u something different u smile today gud evng', 'g say never answer text confirm deny', 'call see facebook huh', 'sitting mu waiting everyone get suite take shower', 'nd time tried contact u u pound prize claim easy call p per min bt national rate', 'dropped em omw back', 'took hooch walk toaday fell splat grazed knee everything stayed home see tomorrow', 'already got flaky parent snot supposed child job support parent ride age anyway supposed support hurt unintentional hurt nonetheless', 'goal arsenal henry v liverpool henry score simple shot yard pas bergkamp give arsenal goal margin min', 'way tirupur', 'love holiday monday feeling even go dentist hour', 'regret inform u nh made mistake u never actually born please report yor local hospital b terminated r sorry inconvenience', 'good day', 'solihull want anything', 'anything special', 'come online today night', 'warner village c colin farrell swat wkend warner village get free med popcorn show msg ticket kiosk valid c c kiosk reply sony mre film offer', 'mean post wrote like many time ritten stuff let sit feeling time angry left hit send stop checked phone got car said sleep bored time clean fold laundry etc least make bed', 'reaching another stop', 'free polyphonic ringtone text super get free poly tone week sn pobox nr z subscription pw', 'taka lor wat time u wan come n look u', 'ou guaranteed latest nokia phone gb ipod mp player prize txt word collect ibhltd ldnw h p mtmsgrcvd', 'haha first person gonna ask', 'oh fuck sake like tallahassee', 'cant pick phone right pls send message', 'half year missed friendship', 'want latest video handset anytime network min half price line rental reply call delivery tomorrow', 'convey regard', 'send new number', 'miserable tell u side effect birth control massive gut wrenching cramp first month sleep last night', 'worse us half way stop better complete', 'sound like could lot time spent chastity device boy grin take beating like good dog going lounge nice long bath', 'japanese proverb one u none u must indian version one let none leave finally kerala version one stop none make strike', 'pls make note exposed also find school anyone else vomiting dog cat house let know later', 'today vodafone number ending selected receive award number match call receive award', 'time', 'poor girl go one day lmao', 'many thing antibiotic used chest abdomen gynae infection even bone infection', 'new theory argument win situation loses person dont argue ur friend kick amp say always correct', 'usual u call ard smth', 'pick', 'alright tyler got minor crisis home sooner thought asap', 'yeah open chat click friend list make list easy pie', 'polyphonic tone ur mob every week txt pt st tone free get txtin tell ur friend p tone reply hl info', 'world happiest frnds never character dey best understanding difference', 'lyricalladie f inviting friend reply yes see www sm ac u hmmross stop send stop frnd', 'know dat feelin pete wuld get em nuther place nuther time mayb', 'wat happened cruise thing', 'lol oops sorry fun', 'hi dis yijue would happy work wif gek', 'well know mean texting', 'dip cell dead coming u better respond else shall come back', 'tension face smiling face waste face innocent face terror face cruel face romantic face lovable face decent face lt gt joker face', 'watching cartoon listening music amp eve go temple amp church u', 'okey dokey swashbuckling stuff oh', 'oh shit thought trip loooooool make much sense grin sofa reference sleep couch link sent went trip oh babe go celebration rent', 'really sorry lit hair fire', 'sorry da today wont come play driving clas', 'bored housewife chat n date bt national rate p min landline', 'free message thanks using auction subscription service p msgrcvd skip auction txt unsubscribe txt stop customercare', 'nokia phone lovly', 'response one powerful weapon occupy place others heart always give response care u gud night swt dream take care', 'hey guy know breathing neck get bud anyway able get half track usf tonight', 'ok', 'thanks bomb date phone wanted say', 'yes baby need stretch open pussy', 'u', 'also north carolina texas atm would go gre site pay test result sent', 'fine hope also', 'liked new house', 'gain right wife dont demand trying husband let see', 'maybe find something else instead', 'either way work lt gt year old hope doesnt bother', 'increase chance winning', 'escape theatre going watch kavalan minute', 'pls help tell ashley cant find number oh', 'missing pray inshah allah', 'valued vodafone customer computer picked win prize collect easy call', 'need detail online job', 'awesome gonna soon later tonight', 'hmmm mayb try e shoppin area one forgot e name hotel', 'private account statement show un redeemed point call identifier code expires', 'one issue california okay snow manageable', 'boy made fun today ok problem sent one message fun', 'photoshop make computer shut', 'yay wait party together', 'oh rite well im best mate pete went week geva longer week', 'hope pee burn tonite', 'new mobile must go txt nokia collect today www tc biz optout gbp mtmsg txtauction', 'rat hey u ever vote next theme', 'po de need job aha', 'word checkmate chess come persian phrase shah maat mean king dead goodmorning good day', 'long get reply defer admission til next semester', 'lol trying make day little interesting', 'yup giving problem mayb jus leave', 'haha thinkin', 'going sleep tired travel', 'thought bout drink tap spile seven pub gas st broad st canal ok', '', 'u r winner u ave specially selected receive cash holiday flight inc speak live operator claim p min', 'im good thinking', 'check choose babe video sm shsex netun fgkslpopw fgkslpo', 'got smaller capacity one quite ex', 'ur paper', 'mark taking forever pick prescription pain coming back', 'anything valuable situation first getting second loosing', 'home work meh', 'ummmmmaah many many happy return day dear sweet heart happy birthday dear', 'call lt gt min thats ok', 'fyi usf swing room whenever', 'e admin building might b slightly earlier call u reaching', 'honey pls find much sell predicte nigeria many time used important reply monday', 'worry though understand important put place poorly thought punishment face worst thing ever happened brb gonna go kill', 'oga left phone home saw ur message hope good great weekend', 'private account statement show unredeemed bonus point claim call identifier code expires', 'call u finish come n pick u', 'sorry delay yes master', 'er hello thing quite go plan limping slowly home followed aa exhaust hanging', 'plan manage', 'reverse cheating mathematics', 'guy car shop flirting got phone number paperwork called texted nervous course may address call bos tell knowing may get fired', 'cool tyler take gonna buy drop place later tonight total order quarter got enough', 'dont know getting message', 'come home want u miserable', 'santa calling would little one like call santa xmas eve call book time call ppm last min c www santacalling com', 'urgent nd attempt contact u prize yesterday still awaiting collection claim call', 'saw guy doll last night patrick swayze great', 'sorry uncle keep touch', 'u ask next sat make ok lor', 'gd luck ur exam', 'send resume', 'yup izzit still raining heavily co e mrt c outside', 'opposite side dropped', 'thanx yup coming back sun finish dinner going back hotel time fly tog exactly mth today hope haf many mths come', 'thk wat eat tonight', 'holy living christ taking long', 'urgent call landline complimentary ibiza holiday cash await collection sae c po box sk wp ppm', 'indeed way either', 'especially since talk boston personal statement lol woulda changed realized said nyc say boston', 'call senthil hsbc', 'yup hey one day fri ask miwa jiayin take leave go karaoke', 'sen told going join uncle finance cbe', 'cant see join denis mina denis want alone time', 'u r beautiful girl ive ever seen u r baby come c common room', 'sorry completely forgot pop em round week still', 'quite lor dun tell wait get complacent', 'many people seems special first sight remain special till last sight maintain till life end sh jas', 'u repeat e instruction wat e road name ur house', 'ok u tell wat time u coming later lor', 'hi mobile lt gt added contact list www fullonsms com great place send free sm people visit fullonsms com', 'hi got money da', 'cheer lou yeah goodnite shame u neva came c ya gailxx', 'watever relation u built dis world thing remains atlast iz lonlines lotz n lot memory feeling', 'sure still available though', 'unique user id removal send stop customer service', 'whens radio show', 'text way cup stop work bus', 'hi technical support providing assistance u customer call email', 'prepare pleasured', 'lovely night xxx', 'ard rest ard least price bedrm', 'home doc gave pain med say everything fine', 'thanks continued support question week enter u draw cash name new u president txt an', 'urgent mobile number awarded prize guaranteed call land line claim valid hr ppm', 'hey look like wrong one kappa guy number still phone want text see around', 'make life stressfull always find time laugh may add year life surely add life ur year gud ni swt dream', 'u wan haf lunch da canteen', 'ok lor u wan go look u', 'cashbin co uk get lot cash weekend www cashbin co uk dear welcome weekend got biggest best ever cash give away', 'well boy glad g wasted night applebees nothing', 'weekly cool mob tone ready download week new tone include crazy frog axel f akon lonely black eyed dont p info n', 'still maybe leave credit card get gas get back like told', 'thanx u darlin im cool thanx bday drink nite morrow take care c u soon xxx', 'beauty life next second hide thousand secret wish every second wonderful ur life gud n', 'put sign choose number pin show right', 'orh tot u say still dun believe', 'camera awarded sipix digital camera call fromm landline delivery within day', 'thinking u x', 'hospital da return home evening', 'ya nice ready thursday', 'many happy return day wish happy birthday', 'keep seeing weird shit bein woah realising actually reasonable oh', 'pizza u want', 'bought test yesterday something let know exact day u ovulate get u wks pls pls dont fret know u r worried pls relax also anything ur past history u need tell', 'nt driving even many reason called bbd thts chikku hw abt dvg cold heard tht vinobanagar violence hw condition hw ru problem', 'possession especially first offense', 'oh k placement ah', 'buy space invader chance win orig arcade game console press game arcade std wap charge see co uk game term setting purchase', 'good morning dear shijutta great amp successful day', 'wat time r going xin hostel', 'k eng rocking ash', 'dont know ask brother nothing problem thing told', 'reached already', 'career tel added u contact indyarocks com send free sm remove phonebook sm lt gt', 'mobile mths update latest camera video phone free keep ur number get extra free min text text yes call', 'jason say cool pick place like hour', 'minor shindig place later tonight interested', 'free game get rayman golf free game arcade st get ur game setting reply post save activ press key arcade termsapply', 'hello peach cake tasts lush', 'home love still awake loving kiss', 'yup anything lor u dun wan ok', 'forgot tell smth like number section clearer', 'aiyo lesson early still sleepin haha okie u go home liao den confirm w lor', 'uncle atlanta wish guy great semester', 'k addie amp art get home', 'hey happened u switch ur cell whole day isnt good u care give call tomorrow', 'min go lunch', 'oops thk dun haf enuff go check tell', 'big brother really scraped barrel shower social misfit', 'thats cool princess cover face hot sticky cum', 'huh slow tot u reach long ago liao u day leh', 'ya knw u vl giv ok thanks kano anyway enjoy wit ur family wit st salary', 'haha awesome might need take doin tonight', 'say bold torch later one torch bold', 'wif family booking tour package', 'wow healthy old airport rd lor cant thk anything else b bathing dog later', 'hey anyway', 'yar say got error', 'mmmmmmm snuggle deep contented sigh whisper fucking love much barely stand', 'anytime', 'liked new mobile', 'win winner mr foley ipod exciting prize soon keep eye ur mobile visit www win co uk', 'yes fine', 'da whats plan', 'okey dokey bit sorting stuff', 'guy get used dumb realize', 'urgent mobile awarded bonus caller prize nd attempt contact call box qu', 'pls give food preferably pap slowly load sugar take hour give water slowly', 'tessy pls favor pls convey birthday wish nimya pls dnt forget today birthday shijas', 'march ending ready call sure problem capital never complete far work lady', 'surly ill give coming review', 'ok prob', 'try g decided head', 'hmmm give one day', 'eatin lunch', 'pls dont play others life', 'alright bring see like lt gt min', 'life mean lot love life love people life world call friend call world ge', 'ok u take shopping u get paid', 'haha yeah oz kind shitload', 'staying town', 'cool night lemme know around', 'sry da jst nw came home', 'good thing getting connection bw', 'wewa iriver mb', 'ready call', 'hi babe chloe r u smashed saturday night great weekend u missing sp visionsms com text stop stop p text', 'leaving house', 'forgot ask smth card da present lei want write smth sign', 'customer service announcement recently tried make delivery unable please call schedule ref', 'probably almost gas get cash tomorrow', 'didnt get ur full msg sometext missing send', 'born god said oh another idiot born god said oh competition knew one day two become freinds forever', 'im realy soz imat mum nite moro', 'send print out da', 'tel software name', 'ok set let u noe e detail later', 'mum going robinson already', 'yes please swimming', 'lady first genus second k', 'ok prob', 'call tell infront call', 'cant pick phone right pls send message', 'message great doctor india drink appy fizz contains cancer causing age', 'private account statement show un redeemed point call identifier code expires', 'k work something', 'prasanth ettans mother passed away last night pray family', 'hope great day', 'lol yes add spice day', 'r e meeting tmr', 'xmas reward waiting computer randomly picked loyal mobile customer receive reward call', 'finally happened aftr decade beer cheaper petrol goverment expects u drink drive', 'please protect e threat sib never asks sensitive information like password atm sm pin thru email never share password anybody', 'okay going sleep later', 'god created gap btwn ur finger dat sum vry special fill gap holding ur hand plz dont ask created much gap leg', 'tried contact reply offer video phone anytime network min half price line rental camcorder reply call', 'planning come chennai', 'u got person story', 'sorry din lock keypad', 'ripped get mobile content www clubmoby com call poly true pix ringtones game six downloads', 'havent', 'hide anythiing keeping distance', 'course guess god got hold right', 'captain vijaykanth comedy captain tv drunken', 'oh ho first time u use type word', 'k k pa lunch aha', 'come din c yup cut hair', 'move morphine', 'oh wow thats gay firmware update help', 'meeting call later', 'got hella gas money want go grand nature adventure galileo little bit', 'everybody fun evening miss', 'saturday sunday holiday difficult', 'today voda number ending selected receive reward match please call quoting claim code standard rate apply', 'please call customer service representative pm guaranteed cash prize', 'lol knew saw dollar store', 'bus love', 'jus finish blowing hair u finish dinner already', 'u need presnts always bcz u cant mi love jeevithathile irulinae neekunna prakasamanu sneham prakasam ennal prabha mn prabha love got dont mi', 'finally came fix ceiling', 'received understood n acted upon', 'long fuckin showr', 'sorry call later meeting', 'nvm going wear sport shoe anyway going late leh', 'good think could send pix would love see top bottom', 'called dad oredi', 'sunshine quiz win super sony dvd recorder canname capital australia text mquiz b', 'hows favourite person today r u workin hard sleep last nite nearly rang u', 'much got cleaning', 'sorry da gone mad many pending work', 'wat time finish', 'glad talking']\n"
     ]
    }
   ],
   "source": [
    "print(corpus)"
   ]
  },
  {
   "cell_type": "code",
   "execution_count": 14,
   "metadata": {},
   "outputs": [],
   "source": [
    "from sklearn.feature_extraction.text import TfidfVectorizer"
   ]
  },
  {
   "cell_type": "code",
   "execution_count": 15,
   "metadata": {},
   "outputs": [],
   "source": [
    "tf=TfidfVectorizer()\n",
    "x=tf.fit_transform(corpus).toarray()"
   ]
  },
  {
   "cell_type": "code",
   "execution_count": 19,
   "metadata": {},
   "outputs": [
    {
     "data": {
      "text/plain": [
       "array([[0., 0., 0., ..., 0., 0., 0.],\n",
       "       [0., 0., 0., ..., 0., 0., 0.],\n",
       "       [0., 0., 0., ..., 0., 0., 0.],\n",
       "       ...,\n",
       "       [0., 0., 0., ..., 0., 0., 0.],\n",
       "       [0., 0., 0., ..., 0., 0., 0.],\n",
       "       [0., 0., 0., ..., 0., 0., 0.]])"
      ]
     },
     "execution_count": 19,
     "metadata": {},
     "output_type": "execute_result"
    }
   ],
   "source": [
    "x"
   ]
  },
  {
   "cell_type": "code",
   "execution_count": 21,
   "metadata": {},
   "outputs": [],
   "source": [
    "y=pd.get_dummies(data.Label,drop_first=True)"
   ]
  },
  {
   "cell_type": "code",
   "execution_count": 22,
   "metadata": {},
   "outputs": [
    {
     "data": {
      "text/html": [
       "<div>\n",
       "<style scoped>\n",
       "    .dataframe tbody tr th:only-of-type {\n",
       "        vertical-align: middle;\n",
       "    }\n",
       "\n",
       "    .dataframe tbody tr th {\n",
       "        vertical-align: top;\n",
       "    }\n",
       "\n",
       "    .dataframe thead th {\n",
       "        text-align: right;\n",
       "    }\n",
       "</style>\n",
       "<table border=\"1\" class=\"dataframe\">\n",
       "  <thead>\n",
       "    <tr style=\"text-align: right;\">\n",
       "      <th></th>\n",
       "      <th>Spam</th>\n",
       "    </tr>\n",
       "  </thead>\n",
       "  <tbody>\n",
       "    <tr>\n",
       "      <th>0</th>\n",
       "      <td>0</td>\n",
       "    </tr>\n",
       "    <tr>\n",
       "      <th>1</th>\n",
       "      <td>0</td>\n",
       "    </tr>\n",
       "    <tr>\n",
       "      <th>2</th>\n",
       "      <td>0</td>\n",
       "    </tr>\n",
       "    <tr>\n",
       "      <th>3</th>\n",
       "      <td>0</td>\n",
       "    </tr>\n",
       "    <tr>\n",
       "      <th>4</th>\n",
       "      <td>1</td>\n",
       "    </tr>\n",
       "    <tr>\n",
       "      <th>...</th>\n",
       "      <td>...</td>\n",
       "    </tr>\n",
       "    <tr>\n",
       "      <th>952</th>\n",
       "      <td>0</td>\n",
       "    </tr>\n",
       "    <tr>\n",
       "      <th>953</th>\n",
       "      <td>0</td>\n",
       "    </tr>\n",
       "    <tr>\n",
       "      <th>954</th>\n",
       "      <td>0</td>\n",
       "    </tr>\n",
       "    <tr>\n",
       "      <th>955</th>\n",
       "      <td>0</td>\n",
       "    </tr>\n",
       "    <tr>\n",
       "      <th>956</th>\n",
       "      <td>0</td>\n",
       "    </tr>\n",
       "  </tbody>\n",
       "</table>\n",
       "<p>957 rows × 1 columns</p>\n",
       "</div>"
      ],
      "text/plain": [
       "     Spam\n",
       "0       0\n",
       "1       0\n",
       "2       0\n",
       "3       0\n",
       "4       1\n",
       "..    ...\n",
       "952     0\n",
       "953     0\n",
       "954     0\n",
       "955     0\n",
       "956     0\n",
       "\n",
       "[957 rows x 1 columns]"
      ]
     },
     "execution_count": 22,
     "metadata": {},
     "output_type": "execute_result"
    }
   ],
   "source": [
    "y"
   ]
  },
  {
   "cell_type": "code",
   "execution_count": 25,
   "metadata": {},
   "outputs": [
    {
     "data": {
      "text/plain": [
       "Spam\n",
       "0       835\n",
       "1       122\n",
       "dtype: int64"
      ]
     },
     "execution_count": 25,
     "metadata": {},
     "output_type": "execute_result"
    }
   ],
   "source": [
    "y.value_counts()"
   ]
  },
  {
   "cell_type": "markdown",
   "metadata": {},
   "source": [
    "# Implementing Stratified k Fold, since there is imbalance in dataset"
   ]
  },
  {
   "cell_type": "markdown",
   "metadata": {},
   "source": [
    "# Implementing Logistic Regression"
   ]
  },
  {
   "cell_type": "code",
   "execution_count": 57,
   "metadata": {},
   "outputs": [],
   "source": [
    "from sklearn.linear_model import LogisticRegression\n",
    "from sklearn.svm import SVC\n",
    "from sklearn.naive_bayes import MultinomialNB,GaussianNB"
   ]
  },
  {
   "cell_type": "code",
   "execution_count": 58,
   "metadata": {},
   "outputs": [],
   "source": [
    "lr=LogisticRegression()\n",
    "sv=SVC()\n",
    "gb=GaussianNB()\n",
    "mb=MultinomialNB()"
   ]
  },
  {
   "cell_type": "code",
   "execution_count": 26,
   "metadata": {},
   "outputs": [],
   "source": [
    "from sklearn.model_selection import StratifiedKFold,train_test_split"
   ]
  },
  {
   "cell_type": "code",
   "execution_count": 60,
   "metadata": {},
   "outputs": [],
   "source": [
    "skf=StratifiedKFold(n_splits=10,shuffle=True,random_state=1)\n",
    "list_of_accuracy_lr=[]\n",
    "list_of_accuracy_sv=[]\n",
    "list_of_accuracy_gb=[]\n",
    "list_of_accuracy_mb=[]"
   ]
  },
  {
   "cell_type": "code",
   "execution_count": 61,
   "metadata": {},
   "outputs": [
    {
     "name": "stderr",
     "output_type": "stream",
     "text": [
      "C:\\Users\\Ratnesh\\anaconda4\\lib\\site-packages\\sklearn\\utils\\validation.py:72: DataConversionWarning: A column-vector y was passed when a 1d array was expected. Please change the shape of y to (n_samples, ), for example using ravel().\n",
      "  return f(**kwargs)\n",
      "C:\\Users\\Ratnesh\\anaconda4\\lib\\site-packages\\sklearn\\utils\\validation.py:72: DataConversionWarning: A column-vector y was passed when a 1d array was expected. Please change the shape of y to (n_samples, ), for example using ravel().\n",
      "  return f(**kwargs)\n",
      "C:\\Users\\Ratnesh\\anaconda4\\lib\\site-packages\\sklearn\\utils\\validation.py:72: DataConversionWarning: A column-vector y was passed when a 1d array was expected. Please change the shape of y to (n_samples, ), for example using ravel().\n",
      "  return f(**kwargs)\n",
      "C:\\Users\\Ratnesh\\anaconda4\\lib\\site-packages\\sklearn\\utils\\validation.py:72: DataConversionWarning: A column-vector y was passed when a 1d array was expected. Please change the shape of y to (n_samples, ), for example using ravel().\n",
      "  return f(**kwargs)\n",
      "C:\\Users\\Ratnesh\\anaconda4\\lib\\site-packages\\sklearn\\utils\\validation.py:72: DataConversionWarning: A column-vector y was passed when a 1d array was expected. Please change the shape of y to (n_samples, ), for example using ravel().\n",
      "  return f(**kwargs)\n",
      "C:\\Users\\Ratnesh\\anaconda4\\lib\\site-packages\\sklearn\\utils\\validation.py:72: DataConversionWarning: A column-vector y was passed when a 1d array was expected. Please change the shape of y to (n_samples, ), for example using ravel().\n",
      "  return f(**kwargs)\n",
      "C:\\Users\\Ratnesh\\anaconda4\\lib\\site-packages\\sklearn\\utils\\validation.py:72: DataConversionWarning: A column-vector y was passed when a 1d array was expected. Please change the shape of y to (n_samples, ), for example using ravel().\n",
      "  return f(**kwargs)\n",
      "C:\\Users\\Ratnesh\\anaconda4\\lib\\site-packages\\sklearn\\utils\\validation.py:72: DataConversionWarning: A column-vector y was passed when a 1d array was expected. Please change the shape of y to (n_samples, ), for example using ravel().\n",
      "  return f(**kwargs)\n",
      "C:\\Users\\Ratnesh\\anaconda4\\lib\\site-packages\\sklearn\\utils\\validation.py:72: DataConversionWarning: A column-vector y was passed when a 1d array was expected. Please change the shape of y to (n_samples, ), for example using ravel().\n",
      "  return f(**kwargs)\n",
      "C:\\Users\\Ratnesh\\anaconda4\\lib\\site-packages\\sklearn\\utils\\validation.py:72: DataConversionWarning: A column-vector y was passed when a 1d array was expected. Please change the shape of y to (n_samples, ), for example using ravel().\n",
      "  return f(**kwargs)\n",
      "C:\\Users\\Ratnesh\\anaconda4\\lib\\site-packages\\sklearn\\utils\\validation.py:72: DataConversionWarning: A column-vector y was passed when a 1d array was expected. Please change the shape of y to (n_samples, ), for example using ravel().\n",
      "  return f(**kwargs)\n",
      "C:\\Users\\Ratnesh\\anaconda4\\lib\\site-packages\\sklearn\\utils\\validation.py:72: DataConversionWarning: A column-vector y was passed when a 1d array was expected. Please change the shape of y to (n_samples, ), for example using ravel().\n",
      "  return f(**kwargs)\n",
      "C:\\Users\\Ratnesh\\anaconda4\\lib\\site-packages\\sklearn\\utils\\validation.py:72: DataConversionWarning: A column-vector y was passed when a 1d array was expected. Please change the shape of y to (n_samples, ), for example using ravel().\n",
      "  return f(**kwargs)\n",
      "C:\\Users\\Ratnesh\\anaconda4\\lib\\site-packages\\sklearn\\utils\\validation.py:72: DataConversionWarning: A column-vector y was passed when a 1d array was expected. Please change the shape of y to (n_samples, ), for example using ravel().\n",
      "  return f(**kwargs)\n",
      "C:\\Users\\Ratnesh\\anaconda4\\lib\\site-packages\\sklearn\\utils\\validation.py:72: DataConversionWarning: A column-vector y was passed when a 1d array was expected. Please change the shape of y to (n_samples, ), for example using ravel().\n",
      "  return f(**kwargs)\n",
      "C:\\Users\\Ratnesh\\anaconda4\\lib\\site-packages\\sklearn\\utils\\validation.py:72: DataConversionWarning: A column-vector y was passed when a 1d array was expected. Please change the shape of y to (n_samples, ), for example using ravel().\n",
      "  return f(**kwargs)\n",
      "C:\\Users\\Ratnesh\\anaconda4\\lib\\site-packages\\sklearn\\utils\\validation.py:72: DataConversionWarning: A column-vector y was passed when a 1d array was expected. Please change the shape of y to (n_samples, ), for example using ravel().\n",
      "  return f(**kwargs)\n",
      "C:\\Users\\Ratnesh\\anaconda4\\lib\\site-packages\\sklearn\\utils\\validation.py:72: DataConversionWarning: A column-vector y was passed when a 1d array was expected. Please change the shape of y to (n_samples, ), for example using ravel().\n",
      "  return f(**kwargs)\n",
      "C:\\Users\\Ratnesh\\anaconda4\\lib\\site-packages\\sklearn\\utils\\validation.py:72: DataConversionWarning: A column-vector y was passed when a 1d array was expected. Please change the shape of y to (n_samples, ), for example using ravel().\n",
      "  return f(**kwargs)\n",
      "C:\\Users\\Ratnesh\\anaconda4\\lib\\site-packages\\sklearn\\utils\\validation.py:72: DataConversionWarning: A column-vector y was passed when a 1d array was expected. Please change the shape of y to (n_samples, ), for example using ravel().\n",
      "  return f(**kwargs)\n",
      "C:\\Users\\Ratnesh\\anaconda4\\lib\\site-packages\\sklearn\\utils\\validation.py:72: DataConversionWarning: A column-vector y was passed when a 1d array was expected. Please change the shape of y to (n_samples, ), for example using ravel().\n",
      "  return f(**kwargs)\n",
      "C:\\Users\\Ratnesh\\anaconda4\\lib\\site-packages\\sklearn\\utils\\validation.py:72: DataConversionWarning: A column-vector y was passed when a 1d array was expected. Please change the shape of y to (n_samples, ), for example using ravel().\n",
      "  return f(**kwargs)\n",
      "C:\\Users\\Ratnesh\\anaconda4\\lib\\site-packages\\sklearn\\utils\\validation.py:72: DataConversionWarning: A column-vector y was passed when a 1d array was expected. Please change the shape of y to (n_samples, ), for example using ravel().\n",
      "  return f(**kwargs)\n",
      "C:\\Users\\Ratnesh\\anaconda4\\lib\\site-packages\\sklearn\\utils\\validation.py:72: DataConversionWarning: A column-vector y was passed when a 1d array was expected. Please change the shape of y to (n_samples, ), for example using ravel().\n",
      "  return f(**kwargs)\n",
      "C:\\Users\\Ratnesh\\anaconda4\\lib\\site-packages\\sklearn\\utils\\validation.py:72: DataConversionWarning: A column-vector y was passed when a 1d array was expected. Please change the shape of y to (n_samples, ), for example using ravel().\n",
      "  return f(**kwargs)\n",
      "C:\\Users\\Ratnesh\\anaconda4\\lib\\site-packages\\sklearn\\utils\\validation.py:72: DataConversionWarning: A column-vector y was passed when a 1d array was expected. Please change the shape of y to (n_samples, ), for example using ravel().\n",
      "  return f(**kwargs)\n",
      "C:\\Users\\Ratnesh\\anaconda4\\lib\\site-packages\\sklearn\\utils\\validation.py:72: DataConversionWarning: A column-vector y was passed when a 1d array was expected. Please change the shape of y to (n_samples, ), for example using ravel().\n",
      "  return f(**kwargs)\n",
      "C:\\Users\\Ratnesh\\anaconda4\\lib\\site-packages\\sklearn\\utils\\validation.py:72: DataConversionWarning: A column-vector y was passed when a 1d array was expected. Please change the shape of y to (n_samples, ), for example using ravel().\n",
      "  return f(**kwargs)\n",
      "C:\\Users\\Ratnesh\\anaconda4\\lib\\site-packages\\sklearn\\utils\\validation.py:72: DataConversionWarning: A column-vector y was passed when a 1d array was expected. Please change the shape of y to (n_samples, ), for example using ravel().\n",
      "  return f(**kwargs)\n",
      "C:\\Users\\Ratnesh\\anaconda4\\lib\\site-packages\\sklearn\\utils\\validation.py:72: DataConversionWarning: A column-vector y was passed when a 1d array was expected. Please change the shape of y to (n_samples, ), for example using ravel().\n",
      "  return f(**kwargs)\n",
      "C:\\Users\\Ratnesh\\anaconda4\\lib\\site-packages\\sklearn\\utils\\validation.py:72: DataConversionWarning: A column-vector y was passed when a 1d array was expected. Please change the shape of y to (n_samples, ), for example using ravel().\n",
      "  return f(**kwargs)\n",
      "C:\\Users\\Ratnesh\\anaconda4\\lib\\site-packages\\sklearn\\utils\\validation.py:72: DataConversionWarning: A column-vector y was passed when a 1d array was expected. Please change the shape of y to (n_samples, ), for example using ravel().\n",
      "  return f(**kwargs)\n",
      "C:\\Users\\Ratnesh\\anaconda4\\lib\\site-packages\\sklearn\\utils\\validation.py:72: DataConversionWarning: A column-vector y was passed when a 1d array was expected. Please change the shape of y to (n_samples, ), for example using ravel().\n",
      "  return f(**kwargs)\n",
      "C:\\Users\\Ratnesh\\anaconda4\\lib\\site-packages\\sklearn\\utils\\validation.py:72: DataConversionWarning: A column-vector y was passed when a 1d array was expected. Please change the shape of y to (n_samples, ), for example using ravel().\n",
      "  return f(**kwargs)\n",
      "C:\\Users\\Ratnesh\\anaconda4\\lib\\site-packages\\sklearn\\utils\\validation.py:72: DataConversionWarning: A column-vector y was passed when a 1d array was expected. Please change the shape of y to (n_samples, ), for example using ravel().\n",
      "  return f(**kwargs)\n",
      "C:\\Users\\Ratnesh\\anaconda4\\lib\\site-packages\\sklearn\\utils\\validation.py:72: DataConversionWarning: A column-vector y was passed when a 1d array was expected. Please change the shape of y to (n_samples, ), for example using ravel().\n",
      "  return f(**kwargs)\n",
      "C:\\Users\\Ratnesh\\anaconda4\\lib\\site-packages\\sklearn\\utils\\validation.py:72: DataConversionWarning: A column-vector y was passed when a 1d array was expected. Please change the shape of y to (n_samples, ), for example using ravel().\n",
      "  return f(**kwargs)\n",
      "C:\\Users\\Ratnesh\\anaconda4\\lib\\site-packages\\sklearn\\utils\\validation.py:72: DataConversionWarning: A column-vector y was passed when a 1d array was expected. Please change the shape of y to (n_samples, ), for example using ravel().\n",
      "  return f(**kwargs)\n",
      "C:\\Users\\Ratnesh\\anaconda4\\lib\\site-packages\\sklearn\\utils\\validation.py:72: DataConversionWarning: A column-vector y was passed when a 1d array was expected. Please change the shape of y to (n_samples, ), for example using ravel().\n",
      "  return f(**kwargs)\n",
      "C:\\Users\\Ratnesh\\anaconda4\\lib\\site-packages\\sklearn\\utils\\validation.py:72: DataConversionWarning: A column-vector y was passed when a 1d array was expected. Please change the shape of y to (n_samples, ), for example using ravel().\n",
      "  return f(**kwargs)\n"
     ]
    }
   ],
   "source": [
    "for train_index,test_index in skf.split(x,y):\n",
    "    x_train_fold,x_test_fold=x[train_index],x[test_index]\n",
    "    y_train_fold,y_test_fold=y.iloc[train_index],y.iloc[test_index]\n",
    "    lr.fit(x_train_fold,y_train_fold)\n",
    "    sv.fit(x_train_fold,y_train_fold)\n",
    "    gb.fit(x_train_fold,y_train_fold)\n",
    "    mb.fit(x_train_fold,y_train_fold)\n",
    "    list_of_accuracy_lr.append(lr.score(x_test_fold,y_test_fold))\n",
    "    list_of_accuracy_sv.append(sv.score(x_test_fold,y_test_fold))\n",
    "    list_of_accuracy_gb.append(lr.score(x_test_fold,y_test_fold))\n",
    "    list_of_accuracy_mb.append(sv.score(x_test_fold,y_test_fold))"
   ]
  },
  {
   "cell_type": "code",
   "execution_count": 52,
   "metadata": {},
   "outputs": [],
   "source": [
    "from statistics import mean,stdev"
   ]
  },
  {
   "cell_type": "markdown",
   "metadata": {},
   "source": [
    "# Parameters of logistic regression"
   ]
  },
  {
   "cell_type": "code",
   "execution_count": 62,
   "metadata": {},
   "outputs": [
    {
     "name": "stdout",
     "output_type": "stream",
     "text": [
      "List of possible accuracy for logistic regression: [0.8958333333333334, 0.8958333333333334, 0.9166666666666666, 0.8854166666666666, 0.9166666666666666, 0.90625, 0.8958333333333334, 0.8842105263157894, 0.8947368421052632, 0.8947368421052632]\n",
      "\n",
      "Maximum Accuracy That can be obtained from this model is: 91.66666666666666 %\n",
      "\n",
      "Minimum Accuracy: 88.42105263157895 %\n",
      "\n",
      "Overall Accuracy: 89.86184210526315 %\n",
      "\n",
      "Standard Deviation is: 0.011279265822226986\n"
     ]
    }
   ],
   "source": [
    "print('List of possible accuracy for logistic regression:', list_of_accuracy_lr)\n",
    "print('\\nMaximum Accuracy That can be obtained from this model is:',\n",
    "      max(list_of_accuracy_lr)*100, '%')\n",
    "print('\\nMinimum Accuracy:',\n",
    "      min(list_of_accuracy_lr)*100, '%')\n",
    "print('\\nOverall Accuracy:',\n",
    "      mean(list_of_accuracy_lr)*100, '%')\n",
    "print('\\nStandard Deviation is:', stdev(list_of_accuracy_lr))"
   ]
  },
  {
   "cell_type": "markdown",
   "metadata": {},
   "source": [
    "# Parameters of SVM "
   ]
  },
  {
   "cell_type": "code",
   "execution_count": 63,
   "metadata": {},
   "outputs": [
    {
     "name": "stdout",
     "output_type": "stream",
     "text": [
      "List of possible accuracy for SVM: [0.9270833333333334, 0.9270833333333334, 0.9375, 0.9375, 0.9270833333333334, 0.96875, 0.9583333333333334, 0.9368421052631579, 0.9368421052631579, 0.9157894736842105]\n",
      "\n",
      "Maximum Accuracy That can be obtained from this model is: 96.875 %\n",
      "\n",
      "Minimum Accuracy: 91.57894736842105 %\n",
      "\n",
      "Overall Accuracy: 93.72807017543859 %\n",
      "\n",
      "Standard Deviation is: 0.015662562575148333\n"
     ]
    }
   ],
   "source": [
    "print('List of possible accuracy for SVM:', list_of_accuracy_sv)\n",
    "print('\\nMaximum Accuracy That can be obtained from this model is:',\n",
    "      max(list_of_accuracy_sv)*100, '%')\n",
    "print('\\nMinimum Accuracy:',\n",
    "      min(list_of_accuracy_sv)*100, '%')\n",
    "print('\\nOverall Accuracy:',\n",
    "      mean(list_of_accuracy_sv)*100, '%')\n",
    "print('\\nStandard Deviation is:', stdev(list_of_accuracy_sv))"
   ]
  },
  {
   "cell_type": "markdown",
   "metadata": {},
   "source": [
    "# Parameters of GuassianNb "
   ]
  },
  {
   "cell_type": "code",
   "execution_count": 64,
   "metadata": {},
   "outputs": [
    {
     "name": "stdout",
     "output_type": "stream",
     "text": [
      "List of possible accuracy: [0.8958333333333334, 0.8958333333333334, 0.9166666666666666, 0.8854166666666666, 0.9166666666666666, 0.90625, 0.8958333333333334, 0.8842105263157894, 0.8947368421052632, 0.8947368421052632]\n",
      "\n",
      "Maximum Accuracy That can be obtained from this model is: 91.66666666666666 %\n",
      "\n",
      "Minimum Accuracy: 88.42105263157895 %\n",
      "\n",
      "Overall Accuracy: 89.86184210526315 %\n",
      "\n",
      "Standard Deviation is: 0.011279265822226986\n"
     ]
    }
   ],
   "source": [
    "print('List of possible accuracy:', list_of_accuracy_gb)\n",
    "print('\\nMaximum Accuracy That can be obtained from this model is:',\n",
    "      max(list_of_accuracy_gb)*100, '%')\n",
    "print('\\nMinimum Accuracy:',\n",
    "      min(list_of_accuracy_gb)*100, '%')\n",
    "print('\\nOverall Accuracy:',\n",
    "      mean(list_of_accuracy_gb)*100, '%')\n",
    "print('\\nStandard Deviation is:', stdev(list_of_accuracy_gb))"
   ]
  },
  {
   "cell_type": "markdown",
   "metadata": {},
   "source": [
    "# Parameters of MultinomialNb"
   ]
  },
  {
   "cell_type": "code",
   "execution_count": 65,
   "metadata": {},
   "outputs": [
    {
     "name": "stdout",
     "output_type": "stream",
     "text": [
      "List of possible accuracy: [0.9270833333333334, 0.9270833333333334, 0.9375, 0.9375, 0.9270833333333334, 0.96875, 0.9583333333333334, 0.9368421052631579, 0.9368421052631579, 0.9157894736842105]\n",
      "\n",
      "Maximum Accuracy That can be obtained from this model is: 96.875 %\n",
      "\n",
      "Minimum Accuracy: 91.57894736842105 %\n",
      "\n",
      "Overall Accuracy: 93.72807017543859 %\n",
      "\n",
      "Standard Deviation is: 0.015662562575148333\n"
     ]
    }
   ],
   "source": [
    "print('List of possible accuracy:', list_of_accuracy_mb)\n",
    "print('\\nMaximum Accuracy That can be obtained from this model is:',\n",
    "      max(list_of_accuracy_mb)*100, '%')\n",
    "print('\\nMinimum Accuracy:',\n",
    "      min(list_of_accuracy_mb)*100, '%')\n",
    "print('\\nOverall Accuracy:',\n",
    "      mean(list_of_accuracy_mb)*100, '%')\n",
    "print('\\nStandard Deviation is:', stdev(list_of_accuracy_mb))"
   ]
  },
  {
   "cell_type": "code",
   "execution_count": null,
   "metadata": {},
   "outputs": [],
   "source": []
  }
 ],
 "metadata": {
  "kernelspec": {
   "display_name": "Python 3",
   "language": "python",
   "name": "python3"
  },
  "language_info": {
   "codemirror_mode": {
    "name": "ipython",
    "version": 3
   },
   "file_extension": ".py",
   "mimetype": "text/x-python",
   "name": "python",
   "nbconvert_exporter": "python",
   "pygments_lexer": "ipython3",
   "version": "3.8.3"
  }
 },
 "nbformat": 4,
 "nbformat_minor": 4
}
